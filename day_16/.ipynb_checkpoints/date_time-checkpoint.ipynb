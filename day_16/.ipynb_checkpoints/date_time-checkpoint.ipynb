{
 "cells": [
  {
   "cell_type": "markdown",
   "id": "f2cb32e3-3c19-4b6b-b339-063345c143c3",
   "metadata": {},
   "source": [
    "# Exercises: Day 16"
   ]
  },
  {
   "cell_type": "code",
   "execution_count": null,
   "id": "71d3a178-361f-4dc0-b8d7-dffd2c8f982e",
   "metadata": {},
   "outputs": [],
   "source": []
  }
 ],
 "metadata": {
  "kernelspec": {
   "display_name": "Python 3 (ipykernel)",
   "language": "python",
   "name": "python3"
  },
  "language_info": {
   "codemirror_mode": {
    "name": "ipython",
    "version": 3
   },
   "file_extension": ".py",
   "mimetype": "text/x-python",
   "name": "python",
   "nbconvert_exporter": "python",
   "pygments_lexer": "ipython3",
   "version": "3.8.18"
  }
 },
 "nbformat": 4,
 "nbformat_minor": 5
}
