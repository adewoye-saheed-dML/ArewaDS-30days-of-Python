{
 "cells": [
  {
   "cell_type": "code",
   "execution_count": 1,
   "id": "2f9adea4",
   "metadata": {},
   "outputs": [
    {
     "data": {
      "text/plain": [
       "'3.8.18 (default, Sep 11 2023, 13:39:12) [MSC v.1916 64 bit (AMD64)]'"
      ]
     },
     "execution_count": 1,
     "metadata": {},
     "output_type": "execute_result"
    }
   ],
   "source": [
    "# Exercise:level_1\n",
    "\n",
    "# no_1\n",
    "\n",
    "import sys\n",
    "\n",
    "sys.version"
   ]
  },
  {
   "cell_type": "code",
   "execution_count": null,
   "id": "ca386d72",
   "metadata": {},
   "outputs": [],
   "source": [
    "# 2. The operands of 3 and 4\n",
    "\n",
    "print(3+4)    #addition\n",
    "print(3-4)    #subtraction\n",
    "print(3*4)    #multiplication\n",
    "print(3%4)    #modulus\n",
    "print(3/4)    #division\n",
    "print(3**4)    #exponential\n",
    "print(3//4)    #floor division operator\n"
   ]
  },
  {
   "cell_type": "code",
   "execution_count": null,
   "id": "fdc65d37",
   "metadata": {},
   "outputs": [],
   "source": [
    "# 3. The strings\n",
    "\n",
    "print('Your name')\n",
    "print('Your family name')\n",
    "print('Your country')\n",
    "print('I am enjoying 30 days of python')\n"
   ]
  },
  {
   "cell_type": "code",
   "execution_count": null,
   "id": "0894aa2b",
   "metadata": {},
   "outputs": [],
   "source": [
    "# 4. checking data types\n",
    "\n",
    "print(type(10))      # interger\n",
    "print(type(9.8))     # float\n",
    "print(type(3.14))    # float\n",
    "print(type(4-4j)     # complex number\n",
    "print(type(['Asabeneh','Python','Finland']))  # list\n",
    "print(type('Your name'))   # string\n",
    "print(type('Your family')) # string\n",
    "print(type('Your country')) # string"
   ]
  },
  {
   "cell_type": "code",
   "execution_count": null,
   "id": "b53ba8c4",
   "metadata": {},
   "outputs": [],
   "source": []
  },
  {
   "cell_type": "code",
   "execution_count": null,
   "id": "93c84f8c",
   "metadata": {},
   "outputs": [],
   "source": [
    "#  Exercise:level_3\n",
    "\n",
    "# examples for different Python data types \n",
    "\n",
    "# Numbers\n",
    "print(3+4)            #integer\n",
    "print(4.5-1.9)        #float\n",
    "print((4-6j)-(6-5j))  #complex\n",
    "\n",
    "# string\n",
    "print('Your name')\n",
    "print('Your family name')\n",
    "\n",
    "# Boleans\n",
    "print(1==3)\n",
    "print(4>3 == 6<7)\n",
    "\n",
    "# lists\n",
    "\n",
    "print(['Asabeneh','Python','Finland'])\n",
    "print([1,2,3])\n",
    "\n",
    "# tuples\n",
    "print(('Asabeneh','Python','Finland'))\n",
    "print((1,2,3))\n",
    "\n",
    "# set\n",
    "print({'Asabeneh','Python','Finland'})\n",
    "print({1,2,3})\n",
    "\n",
    "# dictionary\n",
    "print({'name':'Asabeneh','age':444})\n",
    "\n",
    "# Euclidian distance\n",
    "print((2-10)**2 + (3-8)**2)**(1/2)"
   ]
  },
  {
   "cell_type": "code",
   "execution_count": null,
   "id": "50ed0410",
   "metadata": {},
   "outputs": [],
   "source": []
  },
  {
   "cell_type": "code",
   "execution_count": null,
   "id": "1ab658c1",
   "metadata": {},
   "outputs": [],
   "source": []
  },
  {
   "cell_type": "code",
   "execution_count": null,
   "id": "0e9743bb",
   "metadata": {},
   "outputs": [],
   "source": []
  },
  {
   "cell_type": "code",
   "execution_count": null,
   "id": "62de8a84",
   "metadata": {},
   "outputs": [],
   "source": []
  },
  {
   "cell_type": "code",
   "execution_count": null,
   "id": "5c097890",
   "metadata": {},
   "outputs": [],
   "source": []
  },
  {
   "cell_type": "code",
   "execution_count": null,
   "id": "36b376be",
   "metadata": {},
   "outputs": [],
   "source": []
  },
  {
   "cell_type": "code",
   "execution_count": null,
   "id": "3d7722a4",
   "metadata": {},
   "outputs": [],
   "source": []
  },
  {
   "cell_type": "code",
   "execution_count": null,
   "id": "d63ef9b7",
   "metadata": {},
   "outputs": [],
   "source": []
  },
  {
   "cell_type": "code",
   "execution_count": null,
   "id": "286852d9",
   "metadata": {},
   "outputs": [],
   "source": []
  },
  {
   "cell_type": "code",
   "execution_count": null,
   "id": "7df016d7",
   "metadata": {},
   "outputs": [],
   "source": []
  },
  {
   "cell_type": "code",
   "execution_count": null,
   "id": "4cb5c55f",
   "metadata": {},
   "outputs": [],
   "source": []
  },
  {
   "cell_type": "code",
   "execution_count": null,
   "id": "3bed1b58",
   "metadata": {},
   "outputs": [],
   "source": []
  }
 ],
 "metadata": {
  "kernelspec": {
   "display_name": "Python 3 (ipykernel)",
   "language": "python",
   "name": "python3"
  },
  "language_info": {
   "codemirror_mode": {
    "name": "ipython",
    "version": 3
   },
   "file_extension": ".py",
   "mimetype": "text/x-python",
   "name": "python",
   "nbconvert_exporter": "python",
   "pygments_lexer": "ipython3",
   "version": "3.8.18"
  },
  "toc-showtags": true
 },
 "nbformat": 4,
 "nbformat_minor": 5
}
