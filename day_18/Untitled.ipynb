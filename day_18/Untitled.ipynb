{
 "cells": [
  {
   "cell_type": "markdown",
   "id": "71dc16a1-8ffc-4e2d-924f-346348efab7e",
   "metadata": {},
   "source": [
    "# Day 18{Regular Expression}"
   ]
  },
  {
   "cell_type": "markdown",
   "id": "d034c8a6-b582-4402-931a-8dfe6be034ae",
   "metadata": {},
   "source": [
    "### Exercises: Level 1"
   ]
  },
  {
   "cell_type": "code",
   "execution_count": 14,
   "id": "41d97f48-c9e6-47d5-aefb-1568b8465823",
   "metadata": {
    "scrolled": true
   },
   "outputs": [
    {
     "data": {
      "text/plain": [
       "[('love', 6),\n",
       " ('you', 5),\n",
       " ('can', 3),\n",
       " ('I', 2),\n",
       " ('teaching', 2),\n",
       " ('do', 2),\n",
       " ('not', 2),\n",
       " ('what', 2),\n",
       " ('else', 2),\n",
       " ('If', 1),\n",
       " ('Python', 1),\n",
       " ('if', 1),\n",
       " ('something', 1),\n",
       " ('which', 1),\n",
       " ('give', 1),\n",
       " ('all', 1),\n",
       " ('the', 1),\n",
       " ('capabilities', 1),\n",
       " ('to', 1),\n",
       " ('develop', 1),\n",
       " ('an', 1),\n",
       " ('application', 1)]"
      ]
     },
     "execution_count": 14,
     "metadata": {},
     "output_type": "execute_result"
    }
   ],
   "source": [
    "# using regex to find the frequency of each word in the paragraph\n",
    "\n",
    "import re\n",
    "from collections import Counter\n",
    "\n",
    "paragraph = 'I love teaching. If you do not love teaching what else can you love. I love Python if you do not love something which can give you all the capabilities to develop an application what else can you love.'\n",
    "\n",
    "words = r'\\b\\w+\\b'\n",
    "\n",
    "list_of_words = re.findall(words, paragraph, re.I)\n",
    "\n",
    "counts = Counter(list_of_words)\n",
    "frequency = counts.most_common()\n",
    "frequency"
   ]
  },
  {
   "cell_type": "code",
   "execution_count": 44,
   "id": "d979dbbe-8036-41b7-9898-1d5f28665ebd",
   "metadata": {},
   "outputs": [
    {
     "name": "stdout",
     "output_type": "stream",
     "text": [
      "20\n"
     ]
    }
   ],
   "source": [
    "# using regex to find the distance between two furthest particles\n",
    "\n",
    "points = ['-12', '-4', '-3', '-1', '0', '4', '8']\n",
    "\n",
    "num = r'-?\\b\\d+\\b'\n",
    "\n",
    "int_num= [re.findall(num,i)[0] for i in points]\n",
    "\n",
    "lst_num = [int(k) for k in int_num]\n",
    "\n",
    "lst_num.sort()\n",
    "\n",
    "distance = lst_num[-1] - lst_num[0]\n",
    "\n",
    "print(distance)"
   ]
  },
  {
   "cell_type": "markdown",
   "id": "948dfd5e-024a-4706-958e-5493343123a9",
   "metadata": {},
   "source": [
    "### Exercises: Level 2"
   ]
  },
  {
   "cell_type": "code",
   "execution_count": 48,
   "id": "84bad1f6-380b-4e43-bc46-4ff9d4c114ae",
   "metadata": {},
   "outputs": [
    {
     "name": "stdout",
     "output_type": "stream",
     "text": [
      "True\n",
      "False\n",
      "False\n",
      "True\n"
     ]
    }
   ],
   "source": [
    "# defining a function to identifies if a string is valid python variable\n",
    "\n",
    "def is_valid_variable(variable_name):\n",
    "    pattern = re.compile(r'^[a-zA-Z_][a-zA-Z0-9_]*$')\n",
    "    return bool(pattern.match(variable_name))\n",
    "    \n",
    "print(is_valid_variable('first_name'))\n",
    "print(is_valid_variable('first-name'))\n",
    "print(is_valid_variable('1first_name')) \n",
    "print(is_valid_variable('firstname'))"
   ]
  },
  {
   "cell_type": "markdown",
   "id": "be2e848a-dc1b-4417-aa06-576aec562495",
   "metadata": {},
   "source": [
    "### Exercises: Level 3"
   ]
  },
  {
   "cell_type": "code",
   "execution_count": 62,
   "id": "c3cdb5f0-2c8a-42b4-ae72-437c86750881",
   "metadata": {},
   "outputs": [
    {
     "name": "stdout",
     "output_type": "stream",
     "text": [
      "I $am a teacher, and I love teaching;. There $is nothing; as more rewarding as educating and empowering people. ;I found teaching more interesting than any other jobs. Does this motivate you to be a teacher!?\n"
     ]
    },
    {
     "data": {
      "text/plain": [
       "[('I', 3), ('a', 2), ('teacher', 2)]"
      ]
     },
     "execution_count": 62,
     "metadata": {},
     "output_type": "execute_result"
    }
   ],
   "source": [
    "#  cleaning and counting three most frequent words in the string.\n",
    "\n",
    "sentence = '''%I $am@% a %tea@cher%, &and& I lo%#ve %tea@ching%;. There $is nothing; &as& mo@re rewarding as educa@ting &and& @emp%o@wering peo@ple. ;I found tea@ching m%o@re interesting tha@n any other %jo@bs. %Do@es thi%s mo@tivate yo@u to be a tea@cher!?'''\n",
    "\n",
    "def clean_text(s):\n",
    "    k = re.sub('$||@|&|#', '',s)\n",
    "    return k\n",
    "\n",
    "print(clean_text(sentence))\n",
    "\n",
    "def most_frequent_words(n):\n",
    "    \n",
    "    words = r'\\b\\w+\\b'\n",
    "    list_of_words = re.findall(words, clean_text(sentence), re.I)\n",
    "    counts = Counter(list_of_words)\n",
    "    frequency = counts.most_common(3)\n",
    "    return frequency\n",
    "    \n",
    "most_frequent_words(clean_text)\n",
    "\n"
   ]
  },
  {
   "cell_type": "code",
   "execution_count": null,
   "id": "def03b59-2785-4cc4-a363-0a5112059c57",
   "metadata": {},
   "outputs": [],
   "source": []
  }
 ],
 "metadata": {
  "kernelspec": {
   "display_name": "Python 3 (ipykernel)",
   "language": "python",
   "name": "python3"
  },
  "language_info": {
   "codemirror_mode": {
    "name": "ipython",
    "version": 3
   },
   "file_extension": ".py",
   "mimetype": "text/x-python",
   "name": "python",
   "nbconvert_exporter": "python",
   "pygments_lexer": "ipython3",
   "version": "3.8.18"
  }
 },
 "nbformat": 4,
 "nbformat_minor": 5
}
