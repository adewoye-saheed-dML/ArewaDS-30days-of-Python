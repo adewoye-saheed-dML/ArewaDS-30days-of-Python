{
 "cells": [
  {
   "cell_type": "code",
   "execution_count": 27,
   "id": "da46758c-0f0a-4d03-92ab-9110db488147",
   "metadata": {},
   "outputs": [
    {
     "name": "stdout",
     "output_type": "stream",
     "text": [
      "<Response [200]>\n",
      "[('br', 2893), ('p', 2142), ('class', 1253), ('drama', 874), ('the', 783), ('I', 656), ('a', 579), ('and', 554), ('to', 538), ('of', 479)]\n"
     ]
    }
   ],
   "source": [
    "# Reading 'https://gutenberg.org/cache/epub/1513/pg1513-images.html' and finding the 10 most frequent words\n",
    "\n",
    "import requests\n",
    "import re\n",
    "from collections import Counter\n",
    "\n",
    "url='https://gutenberg.org/cache/epub/1513/pg1513-images.html'\n",
    "response = requests.get(url)\n",
    "print(response)\n",
    "response.status_code\n",
    "response.headers\n",
    "\n",
    "all_text = response.text\n",
    "words = r'\\b\\w+\\b'\n",
    "\n",
    "lists_words = re.findall(words, all_text, re.I)\n",
    "counts = Counter(lists_words)\n",
    "common_words=counts.most_common(10)\n",
    "print(common_words)"
   ]
  },
  {
   "cell_type": "code",
   "execution_count": null,
   "id": "a0e53c8a-c62a-40f9-8035-d10514f28abb",
   "metadata": {},
   "outputs": [],
   "source": []
  },
  {
   "cell_type": "code",
   "execution_count": 18,
   "id": "285ac718-ff70-4736-a7e1-4d95b82f8e86",
   "metadata": {},
   "outputs": [
    {
     "name": "stdout",
     "output_type": "stream",
     "text": [
      "Minimum weight: 3.0 kg\n",
      "Maximum weight: 7.5 kg\n",
      "Mean weight: 4.708955223880597 kg\n",
      "Median weight: 4.5 kg\n",
      "Standard deviation of weight: 1.066533799956462 kg\n"
     ]
    }
   ],
   "source": [
    "# reading cat API and finding the  min, max, mean, median, standard deviation of cats' weight in metric units\n",
    "import json\n",
    "import statistics\n",
    "\n",
    "response = requests.get('https://api.thecatapi.com/v1/breeds')\n",
    "response.status_code\n",
    "data= response.json()\n",
    "\n",
    "# extracting 'metric' data list \n",
    "metric = []\n",
    "\n",
    "for i in data:\n",
    "    lst = i.get('weight').get('metric')\n",
    "    range = [float(k) for k in lst.split('-')]   #  extracting the numerical part of the metric range\n",
    "    if range and len(range)==2:\n",
    "        range_value = sum(range)/2\n",
    "        metric.append(range_value)\n",
    "        \n",
    "# Calculating the min, max, mean, median and stdev\n",
    "minimum = min(metric)\n",
    "maximum = max(metric)\n",
    "mean= statistics.mean(metric)\n",
    "median= statistics.median(metric)\n",
    "std_dev= statistics.stdev(metric)\n",
    "\n",
    "print(\"Minimum weight:\", minimum, \"kg\")\n",
    "print(\"Maximum weight:\", maximum, \"kg\")\n",
    "print(\"Mean weight:\", mean, \"kg\")\n",
    "print(\"Median weight:\", median, \"kg\")\n",
    "print(\"Standard deviation of weight:\", std_dev, \"kg\")"
   ]
  },
  {
   "cell_type": "code",
   "execution_count": null,
   "id": "d01b3b83-601a-4098-a86c-fb56b9a2e555",
   "metadata": {},
   "outputs": [],
   "source": []
  },
  {
   "cell_type": "code",
   "execution_count": 19,
   "id": "189eb254-053e-4650-831a-3c56f30544e1",
   "metadata": {},
   "outputs": [
    {
     "name": "stdout",
     "output_type": "stream",
     "text": [
      "Minimum weight: 10.5 years\n",
      "Maximum weight: 19.0 years\n",
      "Mean weight: 13.746268656716419 years\n",
      "Median weight: 13.5 years\n",
      "Standard deviation of weight: 1.5844249849048053 years\n"
     ]
    }
   ],
   "source": [
    "# reading cat API and finding the  min, max, mean, median, standard deviation of cats' lifespan in years\n",
    "\n",
    "response = requests.get('https://api.thecatapi.com/v1/breeds')\n",
    "response.status_code\n",
    "data= response.json()\n",
    "\n",
    "# extracting 'metric' data list \n",
    "life_span = []\n",
    "\n",
    "for i in data:\n",
    "    lst = i.get('life_span')\n",
    "    range = [float(k) for k in lst.split('-')]   #  extracting the numerical part of the life_span\n",
    "    if range and len(range)==2:\n",
    "        range_value = sum(range)/2\n",
    "        life_span.append(range_value)\n",
    "        \n",
    "# Calculating the min, max, mean, median and stdev\n",
    "minimum = min(life_span)\n",
    "maximum = max(life_span)\n",
    "mean= statistics.mean(life_span)\n",
    "median= statistics.median(life_span)\n",
    "std_dev= statistics.stdev(life_span)\n",
    "\n",
    "print(\"Minimum weight:\", minimum, \"years\")\n",
    "print(\"Maximum weight:\", maximum, \"years\")\n",
    "print(\"Mean weight:\", mean, \"years\")\n",
    "print(\"Median weight:\", median, \"years\")\n",
    "print(\"Standard deviation of weight:\", std_dev, \"years\")"
   ]
  },
  {
   "cell_type": "code",
   "execution_count": 24,
   "id": "c7a1445f-4e9e-4cca-959d-5377d06aab12",
   "metadata": {},
   "outputs": [
    {
     "name": "stdout",
     "output_type": "stream",
     "text": [
      "Requirement already satisfied: beautifulsoup4 in c:\\users\\woyes\\anaconda3\\envs\\arewa_datascience\\lib\\site-packages (4.12.2)\n",
      "Requirement already satisfied: soupsieve>1.2 in c:\\users\\woyes\\anaconda3\\envs\\arewa_datascience\\lib\\site-packages (from beautifulsoup4) (2.5)\n",
      "Note: you may need to restart the kernel to use updated packages.\n"
     ]
    }
   ],
   "source": [
    "pip install beautifulsoup4"
   ]
  },
  {
   "cell_type": "code",
   "execution_count": 26,
   "id": "949bfd12-e5e6-4137-8fcd-7d2b5beb6022",
   "metadata": {},
   "outputs": [
    {
     "name": "stdout",
     "output_type": "stream",
     "text": [
      "404\n"
     ]
    }
   ],
   "source": [
    "# Reading the content of UCL\n",
    "\n",
    "from bs4 import BeautifulSoup\n",
    "url = 'https://archive.ics.uci.edu/ml/datasets.php'\n",
    "\n",
    "response = requests.get(url)\n",
    "# lets check the status\n",
    "status = response.status_code\n",
    "print(status) "
   ]
  },
  {
   "cell_type": "code",
   "execution_count": null,
   "id": "98dd3ed5-968f-4be0-82a4-399852966224",
   "metadata": {},
   "outputs": [],
   "source": []
  }
 ],
 "metadata": {
  "kernelspec": {
   "display_name": "Python 3 (ipykernel)",
   "language": "python",
   "name": "python3"
  },
  "language_info": {
   "codemirror_mode": {
    "name": "ipython",
    "version": 3
   },
   "file_extension": ".py",
   "mimetype": "text/x-python",
   "name": "python",
   "nbconvert_exporter": "python",
   "pygments_lexer": "ipython3",
   "version": "3.8.18"
  }
 },
 "nbformat": 4,
 "nbformat_minor": 5
}
