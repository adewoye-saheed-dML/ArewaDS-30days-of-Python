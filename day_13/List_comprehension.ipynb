{
 "cells": [
  {
   "cell_type": "markdown",
   "id": "8831a747-e0ed-4dd1-90c7-9093d3297680",
   "metadata": {},
   "source": [
    "# Day_13 (List_comprehension)"
   ]
  },
  {
   "cell_type": "markdown",
   "id": "001691dc-96b6-4e33-b9a0-59a7dc429096",
   "metadata": {},
   "source": [
    "### Exercises"
   ]
  },
  {
   "cell_type": "code",
   "execution_count": 7,
   "id": "29ce21a4-31d8-4b23-9a28-81d8ea2d5899",
   "metadata": {},
   "outputs": [
    {
     "data": {
      "text/plain": [
       "[2, 4, 6]"
      ]
     },
     "execution_count": 7,
     "metadata": {},
     "output_type": "execute_result"
    }
   ],
   "source": [
    "# filtering negative and zero\n",
    "\n",
    "numbers = [-4, -3, -2, -1, 0, 2, 4, 6]\n",
    "\n",
    "filter =[i for i in numbers if i>0]\n",
    "filter"
   ]
  },
  {
   "cell_type": "code",
   "execution_count": 97,
   "id": "84b9bfc2-6edb-483f-8770-05e773d19685",
   "metadata": {},
   "outputs": [
    {
     "data": {
      "text/plain": [
       "[1, 2, 3, 4, 5, 6, 7, 8, 9]"
      ]
     },
     "execution_count": 97,
     "metadata": {},
     "output_type": "execute_result"
    }
   ],
   "source": [
    "# flatten a array\n",
    "\n",
    "list_of_lists =[[[1, 2, 3]], [[4, 5, 6]], [[7, 8, 9]]]\n",
    "\n",
    "flatten=[f for i in list_of_lists for k in i for f in k]\n",
    "flatten"
   ]
  },
  {
   "cell_type": "code",
   "execution_count": 19,
   "id": "6bf9ebdf-d0af-43c6-af5c-f55d1f3cfb6e",
   "metadata": {},
   "outputs": [
    {
     "data": {
      "text/plain": [
       "[(0, 1, 0, 0, 0, 0),\n",
       " (1, 1, 1, 1, 1, 1),\n",
       " (2, 1, 4, 8, 16, 32),\n",
       " (3, 1, 9, 27, 81, 243),\n",
       " (4, 1, 16, 64, 256, 1024),\n",
       " (5, 1, 25, 125, 625, 3125),\n",
       " (6, 1, 36, 216, 1296, 7776),\n",
       " (7, 1, 49, 343, 2401, 16807),\n",
       " (8, 1, 64, 512, 4096, 32768),\n",
       " (9, 1, 81, 729, 6561, 59049),\n",
       " (10, 1, 100, 1000, 10000, 100000)]"
      ]
     },
     "execution_count": 19,
     "metadata": {},
     "output_type": "execute_result"
    }
   ],
   "source": [
    "# creating list of tuples using list comprehension\n",
    "\n",
    "k = [(i,1,i**2,i**3,i**4,i**5) for i in range(11)]\n",
    "k"
   ]
  },
  {
   "cell_type": "code",
   "execution_count": 106,
   "id": "43f39450-0386-47ac-ae1f-cee794c2e020",
   "metadata": {},
   "outputs": [
    {
     "data": {
      "text/plain": [
       "[['FINLAND', 'FIN', 'HELSINKI'],\n",
       " ['SWEDEN', 'SWE', 'STOCKHOLM'],\n",
       " ['NORWAY', 'NOR', 'OSLO']]"
      ]
     },
     "execution_count": 106,
     "metadata": {},
     "output_type": "execute_result"
    }
   ],
   "source": [
    "# changing a list to a new list\n",
    "\n",
    "countries = [[('Finland', 'Helsinki')], [('Sweden', 'Stockholm')], [('Norway', 'Oslo')]]\n",
    "countries_code = ['FIN', 'SWE', 'NOR']\n",
    "\n",
    "k=[[country.upper(),code,city.upper()] for [(country,city)],code  in zip(countries,countries_code)]\n",
    "k"
   ]
  },
  {
   "cell_type": "code",
   "execution_count": 105,
   "id": "96c8c9a5-e43a-4937-9a18-a14583ac1b26",
   "metadata": {},
   "outputs": [
    {
     "data": {
      "text/plain": [
       "[{'country': 'FINLAND', 'city': 'HELSINKI'},\n",
       " {'country': 'SWEDEN', 'city': 'STOCKHOLM'},\n",
       " {'country': 'NORWAY', 'city': 'OSLO'}]"
      ]
     },
     "execution_count": 105,
     "metadata": {},
     "output_type": "execute_result"
    }
   ],
   "source": [
    "# changing a list to a list of dictionary\n",
    "\n",
    "countries = [[('Finland', 'Helsinki')], [('Sweden', 'Stockholm')], [('Norway', 'Oslo')]]\n",
    "keys = ['country', 'city']\n",
    "\n",
    "k = [{keys[0]:country.upper() ,keys[1]:city.upper()} for [(country,city)] in countries]\n",
    "k"
   ]
  },
  {
   "cell_type": "code",
   "execution_count": 108,
   "id": "989d4d51-29d4-43d3-a8c3-4793d6913f7a",
   "metadata": {},
   "outputs": [
    {
     "data": {
      "text/plain": [
       "['Asabeneh Yetayeh', 'David Smith', 'Donald Trump', 'Bill Gates']"
      ]
     },
     "execution_count": 108,
     "metadata": {},
     "output_type": "execute_result"
    }
   ],
   "source": [
    "# changing a list to a list of concatenated strings\n",
    "\n",
    "names = [[('Asabeneh', 'Yetayeh')], [('David', 'Smith')], [('Donald', 'Trump')], [('Bill', 'Gates')]]\n",
    "\n",
    "out=[k[0]+' '+ k[1] for i in names for k in i]\n",
    "out"
   ]
  },
  {
   "cell_type": "code",
   "execution_count": 111,
   "id": "b8073ac5-f024-47ab-94d6-9f2b55de1d3f",
   "metadata": {},
   "outputs": [
    {
     "data": {
      "text/plain": [
       "1.0"
      ]
     },
     "execution_count": 111,
     "metadata": {},
     "output_type": "execute_result"
    }
   ],
   "source": [
    "# using lambda function to find slope of linear function\n",
    "\n",
    "def slope(x1,y1,x2,y2):\n",
    "    result= lambda x1,y1,x2,y2:(y2-y1)/(x2-x1)\n",
    "    return result(x1,y1,x2,y2)\n",
    "\n",
    "slope(1,2,3,4)\n"
   ]
  },
  {
   "cell_type": "code",
   "execution_count": null,
   "id": "881af0df-4bba-4efd-ab96-4f4dc6893034",
   "metadata": {},
   "outputs": [],
   "source": []
  },
  {
   "cell_type": "code",
   "execution_count": null,
   "id": "d7e2bc44-b68a-481b-b937-3a4d060851f2",
   "metadata": {},
   "outputs": [],
   "source": []
  }
 ],
 "metadata": {
  "kernelspec": {
   "display_name": "Python 3 (ipykernel)",
   "language": "python",
   "name": "python3"
  },
  "language_info": {
   "codemirror_mode": {
    "name": "ipython",
    "version": 3
   },
   "file_extension": ".py",
   "mimetype": "text/x-python",
   "name": "python",
   "nbconvert_exporter": "python",
   "pygments_lexer": "ipython3",
   "version": "3.8.18"
  }
 },
 "nbformat": 4,
 "nbformat_minor": 5
}
