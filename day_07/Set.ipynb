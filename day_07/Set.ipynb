{
 "cells": [
  {
   "cell_type": "markdown",
   "id": "bc046d16-5718-45c1-ba37-499add555142",
   "metadata": {},
   "source": [
    "# Day_07 practice"
   ]
  },
  {
   "cell_type": "code",
   "execution_count": 38,
   "id": "493c44af-dff5-4d23-9f43-204f12dd0b7b",
   "metadata": {},
   "outputs": [
    {
     "name": "stdout",
     "output_type": "stream",
     "text": [
      "7\n",
      "{'Apple', 'Oracle', 'Facebook', 'Microsoft', 'Huawei', 'Honor', 'Google', 'Amazon', 'IBM', 'Baidu'}\n"
     ]
    }
   ],
   "source": [
    "# sets\n",
    "\n",
    "it_companies = {'Facebook', 'Google', 'Microsoft', 'Apple', 'IBM', 'Oracle', 'Amazon'}\n",
    "\n",
    "print(len(it_companies))                   # the length of the set it_companies\n",
    "it_companies.add('Twitter')                # Adding 'Twitter' to it_companies\n",
    "it_companies.update(['Huawei', 'Honor', 'Baidu'])  # Inserting multiple IT companies at once to the set it_companies\n",
    "# it_companies.remove('IBM')             # removing IBM\n",
    "it_companies.discard('TwiLtter')\n",
    "\n",
    "print(it_companies)"
   ]
  },
  {
   "cell_type": "markdown",
   "id": "d5edcf25-78f6-4581-a004-2217a92a6319",
   "metadata": {},
   "source": [
    "### Difference between remove and discard in sets\n",
    "\n",
    "The main difference between remove() function and discard functions is that remove function  will raise an error if the specified item does not exist in the set, while the discard() method will not."
   ]
  },
  {
   "cell_type": "code",
   "execution_count": 17,
   "id": "d84a6fa6-e25e-4d0a-a62e-836247afe574",
   "metadata": {},
   "outputs": [
    {
     "name": "stdout",
     "output_type": "stream",
     "text": [
      "set()\n"
     ]
    }
   ],
   "source": [
    "# set\n",
    "\n",
    "A = {19, 22, 24, 20, 25, 26}\n",
    "B = {19, 22, 20, 25, 26, 24, 28, 27}\n",
    "\n",
    "A.update(B)                # Joining A and B\n",
    "A.intersection(B)          # intersection A and B\n",
    "A.issubset(B)              # checking if A is subset of B\n",
    "A.isdisjoint(B)            # checking if A and B are disjoint sets\n",
    "A.union(B) and B.union(A)\n",
    "print(A.symmetric_difference(B))   # symmetric difference between A and B\n",
    "del (A,B)    # DeletING the sets completely\n",
    "\n"
   ]
  },
  {
   "cell_type": "code",
   "execution_count": 37,
   "id": "0fa3509b-5d80-44a9-afc7-d93dbb2177cd",
   "metadata": {},
   "outputs": [
    {
     "name": "stdout",
     "output_type": "stream",
     "text": [
      "The length of set is 5 while that of age is 8\n"
     ]
    }
   ],
   "source": [
    "#  checking the length of list and set\n",
    "\n",
    "age = [22, 19, 24, 25, 26, 24, 25, 24]\n",
    "st = set(age)\n",
    "\n",
    "print(f'The length of set is {len(st)} while that of age is {len(age)}')"
   ]
  },
  {
   "cell_type": "markdown",
   "id": "311af87f-5f6f-4225-9635-fb9802a0df52",
   "metadata": {},
   "source": [
    "## Differences between string, list, tuple and set"
   ]
  },
  {
   "cell_type": "markdown",
   "id": "fc37d7cd-4b7f-468f-bc86-c74a896a0e52",
   "metadata": {},
   "source": [
    "### string\n",
    "* A string is a sequence of characters.\n",
    "* Strings are immutable"
   ]
  },
  {
   "cell_type": "markdown",
   "id": "5be8e433-213a-438b-adc2-4ffe1a0e6094",
   "metadata": {},
   "source": [
    "### list\n",
    "* A list a sequence of values which can be characters, integers or even another list\n",
    "* Lists are mutable.\n",
    "* The list is ordered.\n",
    "* Lists can be nested among themselves.ed.\t"
   ]
  },
  {
   "cell_type": "markdown",
   "id": "6fb0f2b5-701a-4f80-9a20-86a8dfcfd1de",
   "metadata": {},
   "source": [
    "### tuple\n",
    "* The tuple is ordered.\n",
    "* The tuple is immutable"
   ]
  },
  {
   "cell_type": "markdown",
   "id": "cd27bfeb-70fd-4a41-9233-b0325e3f691e",
   "metadata": {},
   "source": [
    "### set\n",
    "* The set is unordered.\n",
    "* Sets can be nested among themselves.\n",
    "* The set is mutable (no elements are duplicated)"
   ]
  },
  {
   "cell_type": "code",
   "execution_count": 36,
   "id": "65c12824-9481-478a-814e-c2c0d9fbdaa9",
   "metadata": {},
   "outputs": [
    {
     "name": "stdout",
     "output_type": "stream",
     "text": [
      "{'inspire', 'I', 'a', 'teach', 'to', 'people.', 'and', 'am', 'love', 'teacher'}\n",
      "10\n"
     ]
    }
   ],
   "source": [
    "# checking for numbers of unique words in a sentence\n",
    "\n",
    "sentence = \"I am a teacher and I love to inspire and teach people.\"\n",
    "st = sentence.split()\n",
    "words_unique = set(st)\n",
    "\n",
    "print(words_unique)\n",
    "print(len(words_unique))    # counting the number of unique words\n"
   ]
  },
  {
   "cell_type": "code",
   "execution_count": null,
   "id": "794898dc-3950-4f12-9e6b-a47da535e797",
   "metadata": {},
   "outputs": [],
   "source": []
  }
 ],
 "metadata": {
  "kernelspec": {
   "display_name": "Python 3 (ipykernel)",
   "language": "python",
   "name": "python3"
  },
  "language_info": {
   "codemirror_mode": {
    "name": "ipython",
    "version": 3
   },
   "file_extension": ".py",
   "mimetype": "text/x-python",
   "name": "python",
   "nbconvert_exporter": "python",
   "pygments_lexer": "ipython3",
   "version": "3.8.18"
  }
 },
 "nbformat": 4,
 "nbformat_minor": 5
}
