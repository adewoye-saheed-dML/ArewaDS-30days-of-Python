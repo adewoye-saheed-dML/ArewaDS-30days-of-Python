{
 "cells": [
  {
   "cell_type": "markdown",
   "id": "c30476b5-404e-4bd1-b231-5b37f0275b10",
   "metadata": {},
   "source": [
    "# Day_19 {file handling}"
   ]
  },
  {
   "cell_type": "markdown",
   "id": "7b17292c-05aa-4b90-a47f-b6f87a122d31",
   "metadata": {},
   "source": [
    "### Exercises: level 1                                                                                                                                                                               "
   ]
  },
  {
   "cell_type": "code",
   "execution_count": 62,
   "id": "7aabd08a-1250-46ce-85e9-866d8da31b62",
   "metadata": {},
   "outputs": [
    {
     "name": "stdout",
     "output_type": "stream",
     "text": [
      "melina trump speech\n",
      "the total line counts is: 33\n",
      "the total words in the txt is: 1375\n",
      "\n",
      "donald speech\n",
      "the total line counts is: 48\n",
      "the total words in the txt is: 1259\n",
      "\n",
      "obama speech\n",
      "the total line counts is: 66\n",
      "the total words in the txt is: 2400\n",
      "\n",
      "michelle obama speech\n",
      "the total line counts is: 83\n",
      "the total words in the txt is: 2204\n"
     ]
    }
   ],
   "source": [
    "# counting the number of lines and words in a text\n",
    "def count_lines(f):\n",
    "    \n",
    "    s = open(f, 'rt')\n",
    "    lines = s.readlines()\n",
    "    counts = len(lines)\n",
    "    print('the total line counts is:',counts)\n",
    "    \n",
    "    total =0\n",
    "    with open(f , 'r') as s:\n",
    "        txt = s.read()\n",
    "        lines = txt.split()\n",
    "        total+=len(lines)\n",
    "    print('the total words in the txt is:',total) \n",
    "       \n",
    "print('melina trump speech')\n",
    "count_lines('C:/Users/WOYES/Downloads/melina_trump_speech.txt')\n",
    "print('')\n",
    "print('donald speech')\n",
    "count_lines('C:/Users/WOYES/Downloads/donald_speech.txt')\n",
    "print('')\n",
    "print('obama speech')\n",
    "count_lines('C:/Users/WOYES/Downloads/obama_speech.txt')\n",
    "print('')\n",
    "print('michelle obama speech')\n",
    "count_lines('C:/Users/WOYES/Downloads/michelle_obama_speech.txt')"
   ]
  },
  {
   "cell_type": "code",
   "execution_count": 39,
   "id": "3eae8863-cb8c-4c12-ab03-c97f4e98b3bd",
   "metadata": {},
   "outputs": [
    {
     "name": "stdout",
     "output_type": "stream",
     "text": [
      "[(91, 'English'), (45, 'French'), (25, 'Arabic'), (24, 'Spanish'), (9, 'Portuguese'), (9, 'Russian'), (8, 'Dutch'), (7, 'German'), (5, 'Chinese'), (4, 'Serbian')]\n"
     ]
    }
   ],
   "source": [
    "#  ten most spoken languages\n",
    "\n",
    "import json\n",
    "\n",
    "def ten_most_lang(filename, n):\n",
    "    with open(filename ,encoding='utf8') as s:\n",
    "        countries_dct = json.load(s)\n",
    "        count={}\n",
    "    \n",
    "        \n",
    "        for d in countries_dct:\n",
    "            for k in d['languages']:\n",
    "                count[k]=count.get(k,0) +1\n",
    "            \n",
    "    g= sorted(count.items(),key =lambda x:x[1], reverse =True)\n",
    "    k =[(l,j) for j,l in g[:n]]\n",
    "    print(k)\n",
    "   \n",
    "ten_most_lang('C:/Users/WOYES/Downloads/countries_data.json',10)"
   ]
  },
  {
   "cell_type": "code",
   "execution_count": 50,
   "id": "106d3de5-0146-410d-8d23-abdb93bb2b09",
   "metadata": {},
   "outputs": [
    {
     "name": "stdout",
     "output_type": "stream",
     "text": [
      "[{'country': 'China', 'population': 1377422166}, {'country': 'India', 'population': 1295210000}, {'country': 'United States of America', 'population': 323947000}]\n"
     ]
    }
   ],
   "source": [
    "#  ten most populated countries\n",
    "\n",
    "import json\n",
    "\n",
    "def ten_pop_count(filename, n):\n",
    "    with open(filename ,encoding='utf8') as s:\n",
    "        countries_dct = json.load(s)\n",
    "        \n",
    "        \n",
    "    sorted_countries = sorted(countries_dct, key=lambda country:country[\"population\"], reverse=True)\n",
    "    most_populated_countries = sorted_countries[:n]\n",
    "    \n",
    "    k= [{'country':country['name'], 'population':country['population']} for country in most_populated_countries]\n",
    "    print(k)\n",
    "\n",
    "ten_pop_count('C:/Users/WOYES/Downloads/countries_data.json', 3)\n"
   ]
  },
  {
   "cell_type": "markdown",
   "id": "f5a5b692-ce09-4368-a4a7-5df6a6c61782",
   "metadata": {},
   "source": [
    "### Exercises: Level 2"
   ]
  },
  {
   "cell_type": "code",
   "execution_count": 66,
   "id": "db672db8-3333-4229-b4b3-ab2158aacffb",
   "metadata": {},
   "outputs": [
    {
     "name": "stdout",
     "output_type": "stream",
     "text": [
      "[['stephen.marquard@uct.ac.za', 'postmaster@collab.sakaiproject.org'], ['stephen.marquard@uct.ac.za', 'postmaster@collab.sakaiproject.org'], ['stephen.marquard@uct.ac.za', 'postmaster@collab.sakaiproject.org'], ['stephen.marquard@uct.ac.za', 'postmaster@collab.sakaiproject.org']]\n"
     ]
    }
   ],
   "source": [
    "# extracting incoming email addresses as a list from the email_exchange_big.txt\n",
    "import re\n",
    "\n",
    "with open('C:/Users/WOYES/Downloads/email_exchanges.txt', 'r') as f:\n",
    "    lines = f.readlines(200)\n",
    "    emails = [re.findall(r\"[a-z0-9\\.\\-+_]+@[a-z0-9\\.\\-+_]+\\.[a-z]+\", str(lines)) for i in lines]\n",
    "    print(emails)\n"
   ]
  },
  {
   "cell_type": "code",
   "execution_count": 76,
   "id": "d4fa1efa-0e21-49f9-b787-e6a62a7fc5b7",
   "metadata": {},
   "outputs": [
    {
     "name": "stdout",
     "output_type": "stream",
     "text": [
      "melina trump speech\n",
      "[('and', 73), ('to', 54), ('the', 48), ('is', 29), ('I', 28), ('for', 27), ('of', 25), ('a', 22), ('that', 19), ('you', 18)]\n",
      "\n",
      "donald speech\n",
      "[('the', 61), ('and', 53), ('will', 40), ('of', 38), ('to', 32), ('our', 30), ('we', 26), ('is', 20), ('We', 17), ('America', 16)]\n",
      "\n",
      "obama speech\n",
      "[('the', 120), ('and', 107), ('of', 81), ('to', 66), ('our', 58), ('we', 50), ('that', 49), ('a', 48), ('is', 36), ('us', 23)]\n",
      "\n",
      "michelle obama speech\n",
      "[('to', 84), ('and', 80), ('the', 78), ('of', 46), ('that', 43), ('â', 42), ('a', 41), ('in', 36), ('I', 28), ('he', 28)]\n"
     ]
    }
   ],
   "source": [
    "#  finding the most common word in a text\n",
    "\n",
    "import re\n",
    "from collections import Counter\n",
    "\n",
    "def find_most_common_words(file,n):\n",
    "    with open(file, 'r') as f:\n",
    "        txt = f.read()\n",
    "        words = r'\\b\\w+\\b'\n",
    "        list_of_words = re.findall(words, txt, re.I)\n",
    "        \n",
    "    counts = Counter(list_of_words)\n",
    "    frequency = counts.most_common(n)\n",
    "    return (frequency)\n",
    "\n",
    "\n",
    "print('melina trump speech')\n",
    "print(find_most_common_words('C:/Users/WOYES/Downloads/melina_trump_speech.txt', 10))\n",
    "print('')\n",
    "print('donald speech')\n",
    "print(find_most_common_words('C:/Users/WOYES/Downloads/donald_speech.txt',10))\n",
    "print('')\n",
    "print('obama speech')\n",
    "print(find_most_common_words('C:/Users/WOYES/Downloads/obama_speech.txt',10))\n",
    "print('')\n",
    "print('michelle obama speech')\n",
    "print(find_most_common_words('C:/Users/WOYES/Downloads/michelle_obama_speech.txt',10))"
   ]
  },
  {
   "cell_type": "code",
   "execution_count": 77,
   "id": "6ba825b9-ad43-40ff-b750-7ede874b9b64",
   "metadata": {},
   "outputs": [
    {
     "data": {
      "text/plain": [
       "[('the', 768),\n",
       " ('I', 655),\n",
       " ('to', 566),\n",
       " ('and', 562),\n",
       " ('of', 487),\n",
       " ('a', 462),\n",
       " ('in', 342),\n",
       " ('is', 338),\n",
       " ('you', 321),\n",
       " ('my', 310)]"
      ]
     },
     "execution_count": 77,
     "metadata": {},
     "output_type": "execute_result"
    }
   ],
   "source": [
    "#  finding the most common word in romeo and juliet text\n",
    "\n",
    "import re\n",
    "from collections import Counter\n",
    "\n",
    "def find_most_common_words(file,n):\n",
    "    with open(file, 'r') as f:\n",
    "        txt = f.read()\n",
    "        words = r'\\b\\w+\\b'\n",
    "        list_of_words = re.findall(words, txt, re.I)\n",
    "        \n",
    "    counts = Counter(list_of_words)\n",
    "    frequency = counts.most_common(n)\n",
    "    return (frequency)\n",
    "\n",
    "find_most_common_words('C:/Users/WOYES/Downloads/romeo_and_juliet.txt',10)"
   ]
  },
  {
   "cell_type": "code",
   "execution_count": 126,
   "id": "b88a8405-4738-4a6e-bca6-7e3dfc4543cd",
   "metadata": {},
   "outputs": [
    {
     "name": "stdout",
     "output_type": "stream",
     "text": [
      "1. the number of lines containing python or Python is: 160 \n",
      "2. the number of lines containing JavaScript, javascript or Javascript is: 170 \n",
      "3. the number of lines containing java and not javascript is: 57 \n"
     ]
    }
   ],
   "source": [
    "#  reading haacker.csv file and counting numbers of line containing python, javascripts and \n",
    "\n",
    "import csv\n",
    "\n",
    "def count_lines(file, word):\n",
    "    with open (file , 'r') as f:\n",
    "        readd = csv.DictReader(f, delimiter=',')\n",
    "        count = 0\n",
    "    \n",
    "        for i in readd:\n",
    "            if word.lower() in i['title'].lower():\n",
    "                count+=1\n",
    "        return count\n",
    "\n",
    "\n",
    "python_counts = count_lines('C:/Users/WOYES/Downloads/hacker_news.csv', 'python')\n",
    "print(f'1. the number of lines containing python or Python is: {python_counts} ')\n",
    "\n",
    "javascript_counts = count_lines('C:/Users/WOYES/Downloads/hacker_news.csv', 'javascript')\n",
    "print(f'2. the number of lines containing JavaScript, javascript or Javascript is: {javascript_counts} ')\n",
    "\n",
    "java_counts = count_lines('C:/Users/WOYES/Downloads/hacker_news.csv', 'java')\n",
    "\n",
    "java_not_javascript_counts = java_counts - javascript_counts\n",
    "print(f'3. the number of lines containing java and not javascript is: {java_not_javascript_counts} ')\n",
    "    \n",
    "\n",
    "    "
   ]
  },
  {
   "cell_type": "code",
   "execution_count": null,
   "id": "70674822-cc56-4f14-bfb3-ce8071e4c540",
   "metadata": {},
   "outputs": [],
   "source": []
  }
 ],
 "metadata": {
  "kernelspec": {
   "display_name": "Python 3 (ipykernel)",
   "language": "python",
   "name": "python3"
  },
  "language_info": {
   "codemirror_mode": {
    "name": "ipython",
    "version": 3
   },
   "file_extension": ".py",
   "mimetype": "text/x-python",
   "name": "python",
   "nbconvert_exporter": "python",
   "pygments_lexer": "ipython3",
   "version": "3.8.18"
  }
 },
 "nbformat": 4,
 "nbformat_minor": 5
}
