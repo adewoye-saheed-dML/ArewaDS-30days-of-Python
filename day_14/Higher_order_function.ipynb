{
 "cells": [
  {
   "cell_type": "markdown",
   "id": "d240c818-b40e-4680-a6fa-8d88b2daa910",
   "metadata": {},
   "source": [
    "# Day_14 {Higher Order Function}"
   ]
  },
  {
   "cell_type": "markdown",
   "id": "9c4e0968-bf67-42aa-b317-001155ee5cff",
   "metadata": {},
   "source": [
    "### Exercises: Level 1"
   ]
  },
  {
   "cell_type": "markdown",
   "id": "60a187c7-6c8d-45a4-b7c0-26432f51b2bf",
   "metadata": {},
   "source": [
    "### Map"
   ]
  },
  {
   "cell_type": "markdown",
   "id": "073da6ef-8de2-45f2-8055-489db01bd32e",
   "metadata": {},
   "source": [
    "map() - Python's map() method applies a specified function to each item of an iterable (such as a list, tuple, or string) and then returns a new iterable containing the results.  \n",
    "\n",
    "The first argument passed to the map function is itself a function, and the second argument passed is an iterable (sequence of elements) such as a list, tuple, set, string, etc."
   ]
  },
  {
   "cell_type": "markdown",
   "id": "4f6b8434-865c-4d90-b014-5d3ec0836601",
   "metadata": {},
   "source": [
    "### Filter"
   ]
  },
  {
   "cell_type": "markdown",
   "id": "b581d629-c272-471c-8f9f-a55110009136",
   "metadata": {},
   "source": [
    "filter() - The filter() function in Python filters elements from an iterable based on a given condition or function and returns a new iterable with the filtered elements.\r\n",
    "\r\n",
    "The syntax for the filter() is as follows: filter(function, iterable)"
   ]
  },
  {
   "cell_type": "markdown",
   "id": "b5d679d3-41dd-4d40-aed1-f81477c805a9",
   "metadata": {},
   "source": [
    "### Reduce"
   ]
  },
  {
   "cell_type": "markdown",
   "id": "e2e83e49-5623-4129-9b16-e13b069df8df",
   "metadata": {},
   "source": [
    " reduce() - In Python, reduce() is a built-in function that applies a given function to the elements of an iterable, reducing them to a single value.\r\n",
    "\r\n",
    "The syntax for reduce() is as follows: reduce(function, iterable[, initializer])"
   ]
  },
  {
   "cell_type": "code",
   "execution_count": null,
   "id": "f37ad647-a712-4880-bc53-a0bd1565232d",
   "metadata": {},
   "outputs": [],
   "source": []
  },
  {
   "cell_type": "markdown",
   "id": "453acf3e-a975-40ba-918a-8409207ab01d",
   "metadata": {},
   "source": [
    "### Higher order functions"
   ]
  },
  {
   "cell_type": "markdown",
   "id": "90bfe13e-946c-4aee-9075-71113634c662",
   "metadata": {},
   "source": [
    "Higher order function is a way of making a function to take one or more functions as arguments or a function to be returned as a result of another function."
   ]
  },
  {
   "cell_type": "markdown",
   "id": "9eb2ab76-1813-45ee-8d81-af0a4881fac3",
   "metadata": {},
   "source": [
    "### closure"
   ]
  },
  {
   "cell_type": "markdown",
   "id": "2a58e691-de5b-4cbf-91e6-04e8e393a49c",
   "metadata": {},
   "source": [
    "In Python, closure is done by nesting a function inside the encapsulating function and then returning the underlying function."
   ]
  },
  {
   "cell_type": "markdown",
   "id": "dca29a52-3e59-4711-848c-54b2cc9a43d3",
   "metadata": {},
   "source": [
    "### decorator"
   ]
  },
  {
   "cell_type": "markdown",
   "id": "736ed21b-e58c-4beb-9906-53bf4a0be84d",
   "metadata": {},
   "source": [
    "Python decorators are convenient ways to make changes to the functionality of code without making changes to the code. A decorator is written as a function closure and implemented by giving the “@” operator on top of the function."
   ]
  },
  {
   "cell_type": "code",
   "execution_count": null,
   "id": "ef29494b-56d9-4b0f-af96-09cd872a4386",
   "metadata": {},
   "outputs": [],
   "source": []
  },
  {
   "cell_type": "code",
   "execution_count": 26,
   "id": "fe39da32-d964-40cd-99c9-818c7e3c49b5",
   "metadata": {},
   "outputs": [
    {
     "name": "stdout",
     "output_type": "stream",
     "text": [
      "[4, 9, 16, 25, 36, 81]\n",
      "[3, 6, 9]\n",
      "29\n"
     ]
    }
   ],
   "source": [
    "#  map\n",
    "lst = [2,3,4,5,6,9]\n",
    "square =map(lambda x:x**2, lst)\n",
    "print(list(square))\n",
    "\n",
    "# filter\n",
    "filt = filter(lambda x:x%3==0, lst)\n",
    "print(list(filt))\n",
    "\n",
    "# reduce\n",
    "from functools import reduce\n",
    "red = reduce(lambda x,y:x+y, lst)\n",
    "print(red)"
   ]
  },
  {
   "cell_type": "code",
   "execution_count": 22,
   "id": "c4e31e76-cf36-41e0-9714-ded9f3150ba2",
   "metadata": {},
   "outputs": [
    {
     "name": "stdout",
     "output_type": "stream",
     "text": [
      "Estonia\n",
      "Finland\n",
      "Sweden\n",
      "Denmark\n",
      "Norway\n",
      "Iceland\n",
      "Asabeneh\n",
      "Lidiya\n",
      "Ermias\n",
      "Abraham\n",
      "1\n",
      "2\n",
      "3\n",
      "4\n",
      "5\n",
      "6\n",
      "7\n",
      "8\n",
      "9\n",
      "10\n"
     ]
    }
   ],
   "source": [
    "countries = ['Estonia', 'Finland', 'Sweden', 'Denmark', 'Norway', 'Iceland']\n",
    "names = ['Asabeneh', 'Lidiya', 'Ermias', 'Abraham']\n",
    "numbers = [1, 2, 3, 4, 5, 6, 7, 8, 9, 10]\n",
    "\n",
    "# Using for loop to print each country in the countries list\n",
    "for i in countries:\n",
    "    print(i)\n",
    "    \n",
    "# Using for loop to print each name in the names list\n",
    "for i in names:\n",
    "    print(i)\n",
    "\n",
    "# Using for loop to print each number in the numbers list\n",
    "for i in numbers:\n",
    "    print(i)"
   ]
  },
  {
   "cell_type": "code",
   "execution_count": null,
   "id": "7c7b00ea-bbf4-4510-809e-15eec67ba770",
   "metadata": {},
   "outputs": [],
   "source": []
  },
  {
   "cell_type": "markdown",
   "id": "45dd12dd-04aa-45fa-b1e4-d5b0f67c5ffa",
   "metadata": {},
   "source": [
    "### Exercises: Level 2"
   ]
  },
  {
   "cell_type": "code",
   "execution_count": 54,
   "id": "5c349c48-7247-44f0-addc-f4ba287b2955",
   "metadata": {},
   "outputs": [
    {
     "name": "stdout",
     "output_type": "stream",
     "text": [
      "1 ['ESTONIA', 'FINLAND', 'SWEDEN', 'DENMARK', 'NORWAY', 'ICELAND']\n",
      "2 [1, 4, 9, 16, 25, 36, 49, 64, 81, 100]\n",
      "3 ['ASABENEH', 'LIDIYA', 'ERMIAS', 'ABRAHAM']\n",
      "4 ['Estonia', 'Sweden', 'Denmark', 'Norway']\n",
      "5 ['Estonia', 'Finland', 'Denmark', 'Iceland']\n",
      "6 []\n",
      "7 ['Finland', 'Sweden', 'Denmark', 'Norway', 'Iceland']\n"
     ]
    }
   ],
   "source": [
    "\n",
    "countries = ['Estonia', 'Finland', 'Sweden', 'Denmark', 'Norway', 'Iceland']\n",
    "names = ['Asabeneh', 'Lidiya', 'Ermias', 'Abraham']\n",
    "numbers = [1, 2, 3, 4, 5, 6, 7, 8, 9, 10]\n",
    "\n",
    "# using map to create a new list by changing each country to uppercase in the countries list\n",
    "\n",
    "new_lst=map(lambda x:x.upper(), countries)\n",
    "print(1,list(new_lst))\n",
    "\n",
    "#  using map to create a new list by changing each number to square\n",
    "numb=map(lambda x:x**2, numbers)\n",
    "print(2, list(numb))\n",
    "\n",
    "#  using map to create a new list by changing each name to uppercase\n",
    "name=map(lambda x:x.upper(), names)\n",
    "print(3, list(name))\n",
    "\n",
    "# using filter to filter out countries with land\n",
    "def land(n):\n",
    "    if 'land' in n:\n",
    "        return None\n",
    "    return (n)\n",
    "            \n",
    "filt = filter(land, countries)\n",
    "print(4, list(filt))\n",
    "\n",
    "#  filtering out countries having exactly six characters\n",
    "def char(n):\n",
    "    if len(n)==6:\n",
    "        return None\n",
    "    return (n)\n",
    "filt = filter(char, countries)\n",
    "print(5, list(filt))\n",
    "\n",
    "#  filtering out countries containing six letters and more in the country list\n",
    "def char(n):\n",
    "    if len(n)>=6:\n",
    "        return None\n",
    "    return (n)\n",
    "filt = filter(char, countries)\n",
    "print(6, list(filt))\n",
    "\n",
    "# filtering out countries starting with an 'E'\n",
    "def start(n):\n",
    "    if n[0]=='E':\n",
    "        return None\n",
    "    return (n)\n",
    "filt = filter(start, countries)\n",
    "print(7, list(filt))"
   ]
  },
  {
   "cell_type": "code",
   "execution_count": 18,
   "id": "09f78cec-7c07-4562-979d-7e7247383a30",
   "metadata": {},
   "outputs": [
    {
     "name": "stdout",
     "output_type": "stream",
     "text": [
      "3840\n"
     ]
    }
   ],
   "source": [
    "# chaining map,reduce and filter together\n",
    "\n",
    "from functools import reduce\n",
    "\n",
    "countries = ['Estonia', 'Finland', 'Sweden', 'Denmark', 'Norway', 'Iceland']\n",
    "names = ['Asabeneh', 'Lidiya', 'Ermias', 'Abraham']\n",
    "numbers = [1, 2, 3, 4, 5, 6, 7, 8, 9, 10]\n",
    "\n",
    "def subt(n):\n",
    "    return (n+1)\n",
    "\n",
    "def odd(x):\n",
    "    return x%2!=0\n",
    "    \n",
    "filt = reduce(lambda x,y : x*y, map(subt, filter(odd, numbers)))\n",
    "              \n",
    "print(filt)\n"
   ]
  },
  {
   "cell_type": "code",
   "execution_count": 19,
   "id": "63080ac4-47b9-43e5-b6d0-bcbd950157f4",
   "metadata": {},
   "outputs": [
    {
     "name": "stdout",
     "output_type": "stream",
     "text": [
      "['apple', 'banana', 'orange', 'grape']\n"
     ]
    }
   ],
   "source": [
    "#  defining function that only returns string\n",
    "\n",
    "def get_string_lists(n):\n",
    "    return [i for i in n if isinstance(i, str)]\n",
    "\n",
    "my_list = [1, 'apple', 3, 'banana', 'orange', 7, 'grape']\n",
    "result = get_string_lists(my_list)\n",
    "print(result)\n"
   ]
  },
  {
   "cell_type": "code",
   "execution_count": 21,
   "id": "58c0c31c-a33a-4dd1-a496-2c285e7db1f2",
   "metadata": {},
   "outputs": [
    {
     "name": "stdout",
     "output_type": "stream",
     "text": [
      "55\n"
     ]
    }
   ],
   "source": [
    "# summing numbers with reduce function\n",
    "\n",
    "numbers = [1, 2, 3, 4, 5, 6, 7, 8, 9, 10]\n",
    "red = reduce(lambda x,y:x+y , numbers)\n",
    "print(red)"
   ]
  },
  {
   "cell_type": "code",
   "execution_count": 50,
   "id": "00a85e4a-b24f-4710-be1c-cbb9562875ea",
   "metadata": {},
   "outputs": [
    {
     "name": "stdout",
     "output_type": "stream",
     "text": [
      "Estonia, Finland, Sweden, Denmark, Norway, Iceland are north European countries\n"
     ]
    }
   ],
   "source": [
    "# using reduce  to concatenate all the countries and to produce this sentence\n",
    "\n",
    "from functools import reduce\n",
    "\n",
    "countries = ['Estonia', 'Finland', 'Sweden', 'Denmark', 'Norway', 'Iceland']\n",
    "\n",
    "def lst(x, y):\n",
    "    return f'{x}, {y}'\n",
    "\n",
    "result = reduce(lst, countries)\n",
    "print(result + '' + ' are north European countries')\n"
   ]
  },
  {
   "cell_type": "code",
   "execution_count": 58,
   "id": "fe6c5581-5be5-4edd-b3ea-6073129d995a",
   "metadata": {},
   "outputs": [
    {
     "name": "stdout",
     "output_type": "stream",
     "text": [
      "Finland\n",
      "Iceland\n",
      "Ireland\n",
      "Marshall Islands\n",
      "Netherlands\n",
      "New Zealand\n",
      "Poland\n",
      "Solomon Islands\n",
      "Swaziland\n",
      "Switzerland\n",
      "Thailand\n"
     ]
    },
    {
     "data": {
      "text/plain": [
       "{'A': 11,\n",
       " 'B': 17,\n",
       " 'C': 18,\n",
       " 'D': 4,\n",
       " 'E': 8,\n",
       " 'F': 3,\n",
       " 'G': 11,\n",
       " 'H': 3,\n",
       " 'I': 8,\n",
       " 'J': 3,\n",
       " 'K': 7,\n",
       " 'L': 9,\n",
       " 'M': 18,\n",
       " 'N': 9,\n",
       " 'O': 1,\n",
       " 'P': 9,\n",
       " 'Q': 1,\n",
       " 'R': 3,\n",
       " 'S': 25,\n",
       " 'T': 11,\n",
       " 'U': 7,\n",
       " 'V': 4,\n",
       " 'Y': 1,\n",
       " 'Z': 2}"
      ]
     },
     "execution_count": 58,
     "metadata": {},
     "output_type": "execute_result"
    }
   ],
   "source": [
    "countries = [\n",
    "  'Afghanistan',\n",
    "  'Albania',\n",
    "  'Algeria',\n",
    "  'Andorra',\n",
    "  'Angola',\n",
    "  'Antigua and Barbuda',\n",
    "  'Argentina',\n",
    "  'Armenia',\n",
    "  'Australia',\n",
    "  'Austria',\n",
    "  'Azerbaijan',\n",
    "  'Bahamas',\n",
    "  'Bahrain',\n",
    "  'Bangladesh',\n",
    "  'Barbados',\n",
    "  'Belarus',\n",
    "  'Belgium',\n",
    "  'Belize',\n",
    "  'Benin',\n",
    "  'Bhutan',\n",
    "  'Bolivia',\n",
    "  'Bosnia and Herzegovina',\n",
    "  'Botswana',\n",
    "  'Brazil',\n",
    "  'Brunei',\n",
    "  'Bulgaria',\n",
    "  'Burkina Faso',\n",
    "  'Burundi',\n",
    "  'Cambodia',\n",
    "  'Cameroon',\n",
    "  'Canada',\n",
    "  'Cape Verde',\n",
    "  'Central African Republic',\n",
    "  'Chad',\n",
    "  'Chile',\n",
    "  'China',\n",
    "  'Colombi',\n",
    "  'Comoros',\n",
    "  'Congo (Brazzaville)',\n",
    "  'Congo',\n",
    "  'Costa Rica',\n",
    "  \"Cote d'Ivoire\",\n",
    "  'Croatia',\n",
    "  'Cuba',\n",
    "  'Cyprus',\n",
    "  'Czech Republic',\n",
    "  'Denmark',\n",
    "  'Djibouti',\n",
    "  'Dominica',\n",
    "  'Dominican Republic',\n",
    "  'East Timor (Timor Timur)',\n",
    "  'Ecuador',\n",
    "  'Egypt',\n",
    "  'El Salvador',\n",
    "  'Equatorial Guinea',\n",
    "  'Eritrea',\n",
    "  'Estonia',\n",
    "  'Ethiopia',\n",
    "  'Fiji',\n",
    "  'Finland',\n",
    "  'France',\n",
    "  'Gabon',\n",
    "  'Gambia, The',\n",
    "  'Georgia',\n",
    "  'Germany',\n",
    "  'Ghana',\n",
    "  'Greece',\n",
    "  'Grenada',\n",
    "  'Guatemala',\n",
    "  'Guinea',\n",
    "  'Guinea-Bissau',\n",
    "  'Guyana',\n",
    "  'Haiti',\n",
    "  'Honduras',\n",
    "  'Hungary',\n",
    "  'Iceland',\n",
    "  'India',\n",
    "  'Indonesia',\n",
    "  'Iran',\n",
    "  'Iraq',\n",
    "  'Ireland',\n",
    "  'Israel',\n",
    "  'Italy',\n",
    "  'Jamaica',\n",
    "  'Japan',\n",
    "  'Jordan',\n",
    "  'Kazakhstan',\n",
    "  'Kenya',\n",
    "  'Kiribati',\n",
    "  'Korea, North',\n",
    "  'Korea, South',\n",
    "  'Kuwait',\n",
    "  'Kyrgyzstan',\n",
    "  'Laos',\n",
    "  'Latvia',\n",
    "  'Lebanon',\n",
    "  'Lesotho',\n",
    "  'Liberia',\n",
    "  'Libya',\n",
    "  'Liechtenstein',\n",
    "  'Lithuania',\n",
    "  'Luxembourg',\n",
    "  'Macedonia',\n",
    "  'Madagascar',\n",
    "  'Malawi',\n",
    "  'Malaysia',\n",
    "  'Maldives',\n",
    "  'Mali',\n",
    "  'Malta',\n",
    "  'Marshall Islands',\n",
    "  'Mauritania',\n",
    "  'Mauritius',\n",
    "  'Mexico',\n",
    "  'Micronesia',\n",
    "  'Moldova',\n",
    "  'Monaco',\n",
    "  'Mongolia',\n",
    "  'Morocco',\n",
    "  'Mozambique',\n",
    "  'Myanmar',\n",
    "  'Namibia',\n",
    "  'Nauru',\n",
    "  'Nepal',\n",
    "  'Netherlands',\n",
    "  'New Zealand',\n",
    "  'Nicaragua',\n",
    "  'Niger',\n",
    "  'Nigeria',\n",
    "  'Norway',\n",
    "  'Oman',\n",
    "  'Pakistan',\n",
    "  'Palau',\n",
    "  'Panama',\n",
    "  'Papua New Guinea',\n",
    "  'Paraguay',\n",
    "  'Peru',\n",
    "  'Philippines',\n",
    "  'Poland',\n",
    "  'Portugal',\n",
    "  'Qatar',\n",
    "  'Romania',\n",
    "  'Russia',\n",
    "  'Rwanda',\n",
    "  'Saint Kitts and Nevis',\n",
    "  'Saint Lucia',\n",
    "  'Saint Vincent',\n",
    "  'Samoa',\n",
    "  'San Marino',\n",
    "  'Sao Tome and Principe',\n",
    "  'Saudi Arabia',\n",
    "  'Senegal',\n",
    "  'Serbia and Montenegro',\n",
    "  'Seychelles',\n",
    "  'Sierra Leone',\n",
    "  'Singapore',\n",
    "  'Slovakia',\n",
    "  'Slovenia',\n",
    "  'Solomon Islands',\n",
    "  'Somalia',\n",
    "  'South Africa',\n",
    "  'Spain',\n",
    "  'Sri Lanka',\n",
    "  'Sudan',\n",
    "  'Suriname',\n",
    "  'Swaziland',\n",
    "  'Sweden',\n",
    "  'Switzerland',\n",
    "  'Syria',\n",
    "  'Taiwan',\n",
    "  'Tajikistan',\n",
    "  'Tanzania',\n",
    "  'Thailand',\n",
    "  'Togo',\n",
    "  'Tonga',\n",
    "  'Trinidad and Tobago',\n",
    "  'Tunisia',\n",
    "  'Turkey',\n",
    "  'Turkmenistan',\n",
    "  'Tuvalu',\n",
    "  'Uganda',\n",
    "  'Ukraine',\n",
    "  'United Arab Emirates',\n",
    "  'United Kingdom',\n",
    "  'United States',\n",
    "  'Uruguay',\n",
    "  'Uzbekistan',\n",
    "  'Vanuatu',\n",
    "  'Vatican City',\n",
    "  'Venezuela',\n",
    "  'Vietnam',\n",
    "  'Yemen',\n",
    "  'Zambia',\n",
    "  'Zimbabwe',\n",
    "];\n",
    "\n",
    "def categorize_countries():\n",
    "    for i in countries:\n",
    "        if 'land' in i:\n",
    "            print (i)\n",
    "categorize_countries()\n",
    "\n",
    "\n",
    "counts ={}\n",
    "def retur():\n",
    "    for i in countries:\n",
    "        letter = i[0].upper()\n",
    "        counts[letter] = counts.get(letter,0)+1\n",
    "    return counts\n",
    "retur()\n",
    "    "
   ]
  },
  {
   "cell_type": "code",
   "execution_count": null,
   "id": "ddc98110-9bf3-4796-8b5c-ce9364ea77f8",
   "metadata": {},
   "outputs": [],
   "source": []
  }
 ],
 "metadata": {
  "kernelspec": {
   "display_name": "Python 3 (ipykernel)",
   "language": "python",
   "name": "python3"
  },
  "language_info": {
   "codemirror_mode": {
    "name": "ipython",
    "version": 3
   },
   "file_extension": ".py",
   "mimetype": "text/x-python",
   "name": "python",
   "nbconvert_exporter": "python",
   "pygments_lexer": "ipython3",
   "version": "3.8.18"
  }
 },
 "nbformat": 4,
 "nbformat_minor": 5
}
