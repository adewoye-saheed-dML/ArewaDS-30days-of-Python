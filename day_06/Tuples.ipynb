{
 "cells": [
  {
   "cell_type": "markdown",
   "id": "ea249043-fcc8-4b0c-ae95-44b2bc0febf5",
   "metadata": {},
   "source": [
    "## Day_06 practice"
   ]
  },
  {
   "cell_type": "code",
   "execution_count": 1,
   "id": "e1705b48-49e4-48c9-8388-83bbad121097",
   "metadata": {},
   "outputs": [],
   "source": [
    "#  creating an empty tuple\n",
    "empty = ()"
   ]
  },
  {
   "cell_type": "code",
   "execution_count": 9,
   "id": "72edf108-eb7b-4b02-81bb-d5093cd681eb",
   "metadata": {},
   "outputs": [
    {
     "name": "stdout",
     "output_type": "stream",
     "text": [
      "6\n",
      "('abu', 'adam', 'abdulloh', 'aishah', 'khadijah', 'zainab', 'yahya', 'ola')\n"
     ]
    }
   ],
   "source": [
    "# exercises: level 1\n",
    "\n",
    "brothers = ('abu','adam', 'abdulloh')\n",
    "sisters = ('aishah','khadijah','zainab')\n",
    "\n",
    "siblings = brothers + sisters\n",
    "print(len(siblings))          #  numbers of siblings\n",
    "\n",
    "# modifying the tuple and adding name of father and mother\n",
    "\n",
    "mod = list(siblings)\n",
    "mod.append('yahya')\n",
    "mod.append('ola')\n",
    "family_members = tuple(mod)\n",
    "print (family_members)"
   ]
  },
  {
   "cell_type": "code",
   "execution_count": null,
   "id": "7a8a0d89-0f88-41d7-a6b8-73bfcc0135c8",
   "metadata": {},
   "outputs": [],
   "source": []
  },
  {
   "cell_type": "code",
   "execution_count": 18,
   "id": "8e322f04-4f83-4385-b47e-3592d0cf5ce7",
   "metadata": {},
   "outputs": [
    {
     "name": "stdout",
     "output_type": "stream",
     "text": [
      "['mango', 'cashew', 'apple', ' banana', 'carrot', 'okra', 'cabbage', 'tomato', 'milk', 'egg', 'meat', 'hide']\n",
      "['okra', 'cabbage']\n",
      "['mango', 'cashew', 'apple']\n",
      "['egg', 'meat', 'hide']\n"
     ]
    },
    {
     "ename": "NameError",
     "evalue": "name 'food_stuff_tp' is not defined",
     "output_type": "error",
     "traceback": [
      "\u001b[1;31m---------------------------------------------------------------------------\u001b[0m",
      "\u001b[1;31mNameError\u001b[0m                                 Traceback (most recent call last)",
      "Cell \u001b[1;32mIn[18], line 14\u001b[0m\n\u001b[0;32m     11\u001b[0m \u001b[38;5;28mprint\u001b[39m(food_stuff_lt[\u001b[38;5;241m-\u001b[39m\u001b[38;5;241m3\u001b[39m:])  \u001b[38;5;66;03m# slicing out the last three items \u001b[39;00m\n\u001b[0;32m     13\u001b[0m \u001b[38;5;28;01mdel\u001b[39;00m (food_stuff_tp)     \u001b[38;5;66;03m# deleting the tuple completely\u001b[39;00m\n\u001b[1;32m---> 14\u001b[0m \u001b[38;5;28mprint\u001b[39m(\u001b[43mfood_stuff_tp\u001b[49m)\n",
      "\u001b[1;31mNameError\u001b[0m: name 'food_stuff_tp' is not defined"
     ]
    }
   ],
   "source": [
    "fruits = ('mango', 'cashew', 'apple', ' banana')\n",
    "vegetables = ('carrot','okra','cabbage','tomato')\n",
    "animal_products = ('milk', 'egg', 'meat', 'hide')\n",
    "\n",
    "food_stuff_tp = fruits + vegetables + animal_products\n",
    "food_stuff_lt = list(food_stuff_tp)     # changing the tuple to list\n",
    "\n",
    "print(food_stuff_lt)\n",
    "print(food_stuff_lt[5:7])  # slicing out the middle items\n",
    "print(food_stuff_lt[:3])   # slicing out the first three items\n",
    "print(food_stuff_lt[-3:])  # slicing out the last three items \n",
    "\n",
    "del (food_stuff_tp)     # deleting the tuple completely\n",
    "print(food_stuff_tp)    #checking if an item exist in the tuple\n",
    "\n",
    " "
   ]
  },
  {
   "cell_type": "code",
   "execution_count": null,
   "id": "ec26b562-57af-4018-8d4e-4a35777955bf",
   "metadata": {},
   "outputs": [],
   "source": []
  },
  {
   "cell_type": "code",
   "execution_count": 21,
   "id": "8d913308-5729-4833-bd41-78bb7a2eaefd",
   "metadata": {},
   "outputs": [
    {
     "name": "stdout",
     "output_type": "stream",
     "text": [
      "False\n",
      "True\n"
     ]
    }
   ],
   "source": [
    "# checking if a country exist in a tuple using in operator\n",
    "\n",
    "nordic_countries = ('Denmark', 'Finland','Iceland', 'Norway', 'Sweden')\n",
    "print('Estonia' in nordic_countries)\n",
    "print('Iceland' in nordic_countries)"
   ]
  },
  {
   "cell_type": "code",
   "execution_count": null,
   "id": "deabe75a-6c24-464d-b9e7-f055809fdc7f",
   "metadata": {},
   "outputs": [],
   "source": []
  }
 ],
 "metadata": {
  "kernelspec": {
   "display_name": "Python 3 (ipykernel)",
   "language": "python",
   "name": "python3"
  },
  "language_info": {
   "codemirror_mode": {
    "name": "ipython",
    "version": 3
   },
   "file_extension": ".py",
   "mimetype": "text/x-python",
   "name": "python",
   "nbconvert_exporter": "python",
   "pygments_lexer": "ipython3",
   "version": "3.8.18"
  }
 },
 "nbformat": 4,
 "nbformat_minor": 5
}
