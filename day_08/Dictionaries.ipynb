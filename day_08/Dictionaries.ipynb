{
 "cells": [
  {
   "cell_type": "markdown",
   "id": "3a1f8a96-a2cc-4f3d-9e4a-b7151754eb97",
   "metadata": {},
   "source": [
    "# Day_08 practice"
   ]
  },
  {
   "cell_type": "code",
   "execution_count": 2,
   "id": "2f73b43e-3945-41e2-ae1c-e0cafcae0d7b",
   "metadata": {},
   "outputs": [
    {
     "name": "stdout",
     "output_type": "stream",
     "text": [
      "{'name': 'bingo', 'color': 'green', 'breed': 'yellow', 'legs': 55, 'age': 90}\n"
     ]
    }
   ],
   "source": [
    "# empty dict\n",
    "dog = {}\n",
    "\n",
    "dog['name'] = 'bingo'\n",
    "dog['color'] = 'green'\n",
    "dog['breed'] = 'yellow'\n",
    "dog['legs'] = 55\n",
    "dog['age'] = 90\n",
    "\n",
    "print(dog)"
   ]
  },
  {
   "cell_type": "code",
   "execution_count": 13,
   "id": "18305398-c4ff-41a4-bf8b-8cbca23cbc67",
   "metadata": {},
   "outputs": [
    {
     "name": "stdout",
     "output_type": "stream",
     "text": [
      "8\n",
      "dict_keys(['first_name', 'last_name', 'age', 'marital status', 'skills', 'country', 'city', 'address'])\n",
      "dict_values(['adewoye', 'saheed_damilola', 500, 'married', ['python', 'java'], 'nigeria', 'ilorin', 'kwara'])\n",
      "dict_items([('first_name', 'adewoye'), ('last_name', 'saheed_damilola'), ('age', 500), ('marital status', 'married'), ('skills', ['python', 'java']), ('country', 'nigeria'), ('city', 'ilorin'), ('address', 'kwara')])\n",
      "{'first_name': 'adewoye', 'last_name': 'saheed_damilola', 'marital status': 'married', 'skills': ['python', 'java'], 'country': 'nigeria', 'city': 'ilorin', 'address': 'kwara'}\n"
     ]
    }
   ],
   "source": [
    "# student dictionary\n",
    "\n",
    "student={'first_name': 'adewoye', 'last_name':'saheed_damilola','age': 500, 'marital status':'married', \n",
    "         'skills':['data science'],'country':'nigeria','city':'ilorin',\n",
    "        'address':'kwara'}\n",
    "\n",
    "print(len(student))   # length of the dict\n",
    "student['skills']=['python','java']   # modifying the skill value\n",
    "print(student.keys())      # getting the keys as list\n",
    "print(student.values())    # getting the va as list\n",
    "print(student.items())\n",
    "student.pop('age')\n",
    "print(student)\n"
   ]
  },
  {
   "cell_type": "code",
   "execution_count": null,
   "id": "442b673f-3c82-4df0-a116-723003e8034e",
   "metadata": {},
   "outputs": [],
   "source": []
  }
 ],
 "metadata": {
  "kernelspec": {
   "display_name": "Python 3 (ipykernel)",
   "language": "python",
   "name": "python3"
  },
  "language_info": {
   "codemirror_mode": {
    "name": "ipython",
    "version": 3
   },
   "file_extension": ".py",
   "mimetype": "text/x-python",
   "name": "python",
   "nbconvert_exporter": "python",
   "pygments_lexer": "ipython3",
   "version": "3.8.18"
  }
 },
 "nbformat": 4,
 "nbformat_minor": 5
}
