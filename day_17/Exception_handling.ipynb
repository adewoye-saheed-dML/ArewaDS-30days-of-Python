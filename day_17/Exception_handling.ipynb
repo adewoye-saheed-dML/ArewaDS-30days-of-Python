{
 "cells": [
  {
   "cell_type": "markdown",
   "id": "bc39460d-6afe-4158-8823-df20539c7f4f",
   "metadata": {},
   "source": [
    "# Day_17 {Exception_handling}"
   ]
  },
  {
   "cell_type": "code",
   "execution_count": 2,
   "id": "4009bf96-7dd4-4ded-84a0-c3050bae4a75",
   "metadata": {},
   "outputs": [
    {
     "name": "stdout",
     "output_type": "stream",
     "text": [
      "['Finland', 'Sweden', 'Norway', 'Denmark', 'Iceland']\n"
     ]
    }
   ],
   "source": [
    "names = ['Finland', 'Sweden', 'Norway','Denmark','Iceland', 'Estonia','Russia']\n",
    "\n",
    "*nordic_countries,ru,es =names\n",
    "print(nordic_countries)"
   ]
  },
  {
   "cell_type": "code",
   "execution_count": null,
   "id": "1590d16a-120e-4923-aa25-b23582a3ea0d",
   "metadata": {},
   "outputs": [],
   "source": []
  }
 ],
 "metadata": {
  "kernelspec": {
   "display_name": "Python 3 (ipykernel)",
   "language": "python",
   "name": "python3"
  },
  "language_info": {
   "codemirror_mode": {
    "name": "ipython",
    "version": 3
   },
   "file_extension": ".py",
   "mimetype": "text/x-python",
   "name": "python",
   "nbconvert_exporter": "python",
   "pygments_lexer": "ipython3",
   "version": "3.8.18"
  }
 },
 "nbformat": 4,
 "nbformat_minor": 5
}
