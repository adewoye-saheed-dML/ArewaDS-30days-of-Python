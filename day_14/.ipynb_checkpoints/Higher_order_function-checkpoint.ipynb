{
 "cells": [
  {
   "cell_type": "markdown",
   "id": "d240c818-b40e-4680-a6fa-8d88b2daa910",
   "metadata": {},
   "source": [
    "# Day_14 {Higher Order Function}"
   ]
  },
  {
   "cell_type": "markdown",
   "id": "9c4e0968-bf67-42aa-b317-001155ee5cff",
   "metadata": {},
   "source": [
    "### Exercises: Level 1"
   ]
  },
  {
   "cell_type": "code",
   "execution_count": null,
   "id": "f64ca255-9944-45fb-b7ce-a38a96f6f527",
   "metadata": {},
   "outputs": [],
   "source": []
  },
  {
   "cell_type": "code",
   "execution_count": null,
   "id": "25a2cb5e-2fad-40b6-87f9-2bccce3f7a12",
   "metadata": {},
   "outputs": [],
   "source": []
  },
  {
   "cell_type": "code",
   "execution_count": null,
   "id": "e31fa23b-ea78-42dc-83fc-301de56d1ef8",
   "metadata": {},
   "outputs": [],
   "source": []
  },
  {
   "cell_type": "code",
   "execution_count": null,
   "id": "f8b20b20-bc1f-44e3-8de8-28789d6887bd",
   "metadata": {},
   "outputs": [],
   "source": []
  },
  {
   "cell_type": "code",
   "execution_count": null,
   "id": "fb2d788d-e638-4e81-873c-0d432be428dd",
   "metadata": {},
   "outputs": [],
   "source": []
  },
  {
   "cell_type": "markdown",
   "id": "45dd12dd-04aa-45fa-b1e4-d5b0f67c5ffa",
   "metadata": {},
   "source": [
    "### Exercises: Level 2"
   ]
  },
  {
   "cell_type": "code",
   "execution_count": null,
   "id": "ace75108-5e5a-4e6a-96e7-746aa53de6f8",
   "metadata": {},
   "outputs": [],
   "source": []
  },
  {
   "cell_type": "code",
   "execution_count": null,
   "id": "0c9de0cb-ea2b-4120-9340-62c3e78714df",
   "metadata": {},
   "outputs": [],
   "source": []
  },
  {
   "cell_type": "code",
   "execution_count": null,
   "id": "5c349c48-7247-44f0-addc-f4ba287b2955",
   "metadata": {},
   "outputs": [],
   "source": []
  },
  {
   "cell_type": "code",
   "execution_count": null,
   "id": "63080ac4-47b9-43e5-b6d0-bcbd950157f4",
   "metadata": {},
   "outputs": [],
   "source": []
  },
  {
   "cell_type": "markdown",
   "id": "61d19bfd-5f3f-4e5d-ab61-b3e278435ac3",
   "metadata": {},
   "source": [
    "### Exercises: Level 3"
   ]
  },
  {
   "cell_type": "code",
   "execution_count": null,
   "id": "2f71ac5b-9a70-4a0c-818e-24469526e51e",
   "metadata": {},
   "outputs": [],
   "source": []
  },
  {
   "cell_type": "code",
   "execution_count": null,
   "id": "7a437600-3994-485e-ae89-038520968e35",
   "metadata": {},
   "outputs": [],
   "source": []
  },
  {
   "cell_type": "code",
   "execution_count": null,
   "id": "e151fed0-e6e5-4373-a9b9-db61363fd642",
   "metadata": {},
   "outputs": [],
   "source": []
  },
  {
   "cell_type": "code",
   "execution_count": null,
   "id": "2ec09f56-56aa-45da-bfb0-ff2843c87fa0",
   "metadata": {},
   "outputs": [],
   "source": []
  },
  {
   "cell_type": "code",
   "execution_count": null,
   "id": "3bc39162-365e-448d-831d-4fa550881940",
   "metadata": {},
   "outputs": [],
   "source": []
  }
 ],
 "metadata": {
  "kernelspec": {
   "display_name": "Python 3 (ipykernel)",
   "language": "python",
   "name": "python3"
  },
  "language_info": {
   "codemirror_mode": {
    "name": "ipython",
    "version": 3
   },
   "file_extension": ".py",
   "mimetype": "text/x-python",
   "name": "python",
   "nbconvert_exporter": "python",
   "pygments_lexer": "ipython3",
   "version": "3.8.18"
  }
 },
 "nbformat": 4,
 "nbformat_minor": 5
}
