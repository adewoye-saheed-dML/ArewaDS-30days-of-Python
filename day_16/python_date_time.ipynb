{
 "cells": [
  {
   "cell_type": "markdown",
   "id": "ea6e6929-fb98-4621-9bbd-95616f45265c",
   "metadata": {},
   "source": [
    "# Day 16 {python_date_time}"
   ]
  },
  {
   "cell_type": "code",
   "execution_count": 75,
   "id": "7adb0861-6c2e-4149-8274-9f5522e98ab7",
   "metadata": {},
   "outputs": [
    {
     "data": {
      "text/plain": [
       "'Tuesday December 2023,11:47'"
      ]
     },
     "execution_count": 75,
     "metadata": {},
     "output_type": "execute_result"
    }
   ],
   "source": [
    "# Getting the current day, month, year, hour, minute and timestamp from datetime module\n",
    "\n",
    "from datetime import datetime\n",
    "\n",
    "now = datetime.now()\n",
    "t = now.strftime('%A %B %Y,%H:%M')\n",
    "t"
   ]
  },
  {
   "cell_type": "code",
   "execution_count": 74,
   "id": "a3cc014e-ca9e-462f-b7c8-9864dfa99e89",
   "metadata": {},
   "outputs": [
    {
     "name": "stdout",
     "output_type": "stream",
     "text": [
      "time: 12/19/2023, 11:46:56\n"
     ]
    }
   ],
   "source": [
    "# Formating the current date using this format: \"%m/%d/%Y, %H:%M:%S\"\n",
    "\n",
    "from datetime import datetime\n",
    "# current date and time\n",
    "now = datetime.now()\n",
    "time_two = now.strftime(\"%m/%d/%Y, %H:%M:%S\")\n",
    "print(\"time:\", time_two)"
   ]
  },
  {
   "cell_type": "code",
   "execution_count": 76,
   "id": "e89be43f-e518-4437-895d-b0db911dc166",
   "metadata": {},
   "outputs": [
    {
     "name": "stdout",
     "output_type": "stream",
     "text": [
      "date_string = 5 December, 2019\n",
      "date_object = 2019-12-05 00:00:00\n"
     ]
    }
   ],
   "source": [
    "# Changing \"5 December, 2019\" time string to time\n",
    "\n",
    "from datetime import datetime\n",
    "\n",
    "date_string = \"5 December, 2019\"\n",
    "print(\"date_string =\", date_string)\n",
    "date_object = datetime.strptime(date_string, \"%d %B, %Y\")\n",
    "print(\"date_object =\", date_object)"
   ]
  },
  {
   "cell_type": "code",
   "execution_count": 71,
   "id": "e5a26969-e9f6-4153-9404-b8a6fdc516d7",
   "metadata": {},
   "outputs": [
    {
     "name": "stdout",
     "output_type": "stream",
     "text": [
      "Time left for new year: 12 days, 23:01:00\n"
     ]
    }
   ],
   "source": [
    "# Calculating the time difference between now and new year\n",
    "\n",
    "today = date(year=2023, month=12, day=19)\n",
    "\n",
    "t1 = datetime(year = 2023, month = 12, day = 19, hour = 0, minute = 59, second = 0)\n",
    "t2 = datetime(year = 2024, month = 1, day = 1, hour = 0, minute = 0, second = 0)\n",
    "diff = t2 - t1\n",
    "print('Time left for new year:', diff) "
   ]
  },
  {
   "cell_type": "code",
   "execution_count": 72,
   "id": "c2fbe869-02d4-4522-bc1c-be1bb7e8358e",
   "metadata": {},
   "outputs": [
    {
     "name": "stdout",
     "output_type": "stream",
     "text": [
      "Difference betweeen 1970 to 2023: 19710 days, 0:59:00\n"
     ]
    }
   ],
   "source": [
    "# Calculating  the time difference between 1 January 1970 and now\n",
    "\n",
    "today = date(year=2023, month=12, day=19)\n",
    "\n",
    "t1 = datetime(year = 2023, month = 12, day = 19, hour = 0, minute = 59, second = 0)\n",
    "t2 = datetime(year = 1970, month = 1, day = 1, hour = 0, minute = 0, second = 0)\n",
    "diff = t1 - t2\n",
    "print('Difference betweeen 1970 to 2023:', diff) "
   ]
  },
  {
   "cell_type": "markdown",
   "id": "b637be2d-06f4-468d-97a4-f1b6018e3f36",
   "metadata": {},
   "source": [
    "### uses of datetime module "
   ]
  },
  {
   "cell_type": "markdown",
   "id": "a837e5aa-4ea4-4352-b69c-97d0dfb02606",
   "metadata": {},
   "source": [
    "Time series analysis\n",
    "* To get a timestamp of any activities in an application\n",
    "* Adding posts on a blog"
   ]
  },
  {
   "cell_type": "code",
   "execution_count": null,
   "id": "3d0ab90b-d0ae-41ca-a699-69e8dc1e2207",
   "metadata": {},
   "outputs": [],
   "source": []
  }
 ],
 "metadata": {
  "kernelspec": {
   "display_name": "Python 3 (ipykernel)",
   "language": "python",
   "name": "python3"
  },
  "language_info": {
   "codemirror_mode": {
    "name": "ipython",
    "version": 3
   },
   "file_extension": ".py",
   "mimetype": "text/x-python",
   "name": "python",
   "nbconvert_exporter": "python",
   "pygments_lexer": "ipython3",
   "version": "3.8.18"
  }
 },
 "nbformat": 4,
 "nbformat_minor": 5
}
