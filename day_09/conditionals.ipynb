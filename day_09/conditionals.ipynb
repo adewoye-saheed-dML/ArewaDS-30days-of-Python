{
 "cells": [
  {
   "cell_type": "markdown",
   "id": "657fb93e-9c64-4682-a314-cf5810f9a04e",
   "metadata": {},
   "source": [
    "# Day_09 practice"
   ]
  },
  {
   "cell_type": "markdown",
   "id": "f690dd8e-35e2-499a-a8cb-9b16658933cb",
   "metadata": {},
   "source": [
    "### Exercise: level 1"
   ]
  },
  {
   "cell_type": "code",
   "execution_count": 22,
   "id": "5c6035b3-0c0d-40aa-abd7-303d10cc5ca6",
   "metadata": {},
   "outputs": [
    {
     "name": "stdin",
     "output_type": "stream",
     "text": [
      "Enter your age:  30\n"
     ]
    },
    {
     "name": "stdout",
     "output_type": "stream",
     "text": [
      "You are old enough to learn to drive.\n"
     ]
    }
   ],
   "source": [
    "age = float(input('Enter your age: '))\n",
    "\n",
    "if age >=18:\n",
    "    print('You are old enough to learn to drive.')\n",
    "else:\n",
    "    print('You need 3 more years to learn to drive.')"
   ]
  },
  {
   "cell_type": "code",
   "execution_count": 11,
   "id": "6b7c34b5-39fe-44a5-889f-db20b22ee090",
   "metadata": {},
   "outputs": [
    {
     "name": "stdin",
     "output_type": "stream",
     "text": [
      "Enter your age:  30\n"
     ]
    },
    {
     "name": "stdout",
     "output_type": "stream",
     "text": [
      "you are 10 years older than me.\n"
     ]
    }
   ],
   "source": [
    "# age difference\n",
    "\n",
    "my_age = 20\n",
    "age =float(input('Enter your age: '))\n",
    "\n",
    "if age > my_age:\n",
    "    print(f'you are {age - my_age:.0f} years older than me.')\n",
    "elif age < my_age:\n",
    "    print(f'I am {my_age - age:.0f} years older than you')\n",
    "else:\n",
    "    print('we are age mate')"
   ]
  },
  {
   "cell_type": "code",
   "execution_count": 21,
   "id": "a3439cd3-75b5-467e-ab5b-02812d0b4d01",
   "metadata": {},
   "outputs": [
    {
     "name": "stdin",
     "output_type": "stream",
     "text": [
      "enter number one:  4\n",
      "enter number two:  3\n"
     ]
    },
    {
     "name": "stdout",
     "output_type": "stream",
     "text": [
      "4 is greater than 3\n"
     ]
    }
   ],
   "source": [
    "\n",
    "a = int(input('enter number one: '))\n",
    "b = int(input('enter number two: '))\n",
    "\n",
    "if a > b:\n",
    "    print(a,'is greater than',b)\n",
    "elif a < b:\n",
    "    print(a,'is less than',b)\n",
    "else:\n",
    "    print(a,'is equal to',b)"
   ]
  },
  {
   "cell_type": "markdown",
   "id": "f3719c17-a1b3-4b30-924d-0a904f0b863f",
   "metadata": {},
   "source": [
    "### Exercise 2"
   ]
  },
  {
   "cell_type": "code",
   "execution_count": 30,
   "id": "7f28a709-baea-4f3e-b53c-067101cdf1d8",
   "metadata": {},
   "outputs": [
    {
     "name": "stdin",
     "output_type": "stream",
     "text": [
      "enter your score: 87\n"
     ]
    },
    {
     "name": "stdout",
     "output_type": "stream",
     "text": [
      "A\n"
     ]
    }
   ],
   "source": [
    "#  student grade\n",
    "\n",
    "grade = float(input('enter your score:'))\n",
    "\n",
    "if grade in range(80,100):\n",
    "    print('A')\n",
    "elif grade in range(70,89):\n",
    "    print('B')\n",
    "elif grade in range(60,69):\n",
    "    print('C')\n",
    "elif grade in range(50,59):\n",
    "    print('D')\n",
    "elif grade in range(0,49):\n",
    "    print('F')\n",
    "\n"
   ]
  },
  {
   "cell_type": "code",
   "execution_count": 77,
   "id": "0e239c55-1f06-4e83-8503-7d0c5d4af9a7",
   "metadata": {},
   "outputs": [
    {
     "name": "stdin",
     "output_type": "stream",
     "text": [
      "enter month: January\n"
     ]
    },
    {
     "name": "stdout",
     "output_type": "stream",
     "text": [
      "Winter\n"
     ]
    }
   ],
   "source": [
    "\n",
    "autumn = ['September', 'October', 'November']\n",
    "spring = ['March', 'April','May']\n",
    "winter = ['December', 'January', 'February']\n",
    "\n",
    "month = str(input('enter month:'))\n",
    "\n",
    "if month in autumn:\n",
    "    print('Autumn')\n",
    "elif month in winter:\n",
    "    print('Winter')\n",
    "elif month in spring:\n",
    "    print('Spring')"
   ]
  },
  {
   "cell_type": "code",
   "execution_count": 78,
   "id": "62bb72d6-5b66-4142-be4d-fe2d4357a282",
   "metadata": {},
   "outputs": [
    {
     "name": "stdin",
     "output_type": "stream",
     "text": [
      "enter fruit: cashew\n"
     ]
    },
    {
     "name": "stdout",
     "output_type": "stream",
     "text": [
      "['banana', 'orange', 'mango', 'lemon', 'cashew']\n"
     ]
    }
   ],
   "source": [
    "# appending an existing list\n",
    "\n",
    "fruits = ['banana', 'orange', 'mango', 'lemon']\n",
    "\n",
    "pro = input('enter fruit:')\n",
    "\n",
    "if pro not in fruits:\n",
    "    fruits.append(pro)\n",
    "    print(fruits)\n",
    "else:\n",
    "    print('That fruit already exist in the list')\n"
   ]
  },
  {
   "cell_type": "markdown",
   "id": "8130e6ce-e428-40ca-938e-a3ca229eb414",
   "metadata": {},
   "source": [
    "### Exercises: Level 3"
   ]
  },
  {
   "cell_type": "code",
   "execution_count": 11,
   "id": "635137dc-a424-4d5d-be27-a65971a13be9",
   "metadata": {},
   "outputs": [
    {
     "name": "stdout",
     "output_type": "stream",
     "text": [
      "Node\n",
      "Python\n"
     ]
    },
    {
     "name": "stdin",
     "output_type": "stream",
     "text": [
      "enter skills:  ee\n",
      "are you married (y/n):  y\n",
      "where do you live:  Finland\n"
     ]
    },
    {
     "ename": "SyntaxError",
     "evalue": "'return' outside function (2029149166.py, line 31)",
     "output_type": "error",
     "traceback": [
      "\u001b[1;36m  Cell \u001b[1;32mIn[11], line 31\u001b[1;36m\u001b[0m\n\u001b[1;33m    return None\u001b[0m\n\u001b[1;37m    ^\u001b[0m\n\u001b[1;31mSyntaxError\u001b[0m\u001b[1;31m:\u001b[0m 'return' outside function\n"
     ]
    }
   ],
   "source": [
    "        person={\n",
    "    'first_name': 'Asabeneh',\n",
    "    'last_name': 'Yetayeh',\n",
    "    'age': 250,\n",
    "    'country': 'Finland',\n",
    "    'is_marred': True,\n",
    "    'skills': ['JavaScript', 'React', 'Node', 'MongoDB', 'Python'],\n",
    "    'address': {\n",
    "        'street': 'Space street',\n",
    "        'zipcode': '02210'\n",
    "    }\n",
    "    }\n",
    "\n",
    "print(person['skills'][2])\n",
    "print(person['skills'][4])\n",
    "\n",
    "skills =str(input('enter skills: '))\n",
    "\n",
    "if skills in (['JavaScript','React']):\n",
    "    print('He is a frontend developer')\n",
    "elif skills in (['Node', 'Python', 'MongoDB']):\n",
    "    print('He is a backend developer')\n",
    "else:\n",
    "    print('no skill')\n",
    "\n",
    "\n",
    "mar = str(input('are you married (y/n): '))\n",
    "country = str(input('where do you live: '))\n",
    "\n",
    "if mar == 'y' and country == 'Finland':\n",
    "    print(f'adewoye saheed lives in {country}. He is married')\n",
    "else:\n",
    "    return None\n"
   ]
  },
  {
   "cell_type": "code",
   "execution_count": null,
   "id": "a0bc8901-f916-4bb7-a540-8345b8e23ecc",
   "metadata": {},
   "outputs": [],
   "source": []
  }
 ],
 "metadata": {
  "kernelspec": {
   "display_name": "Python 3 (ipykernel)",
   "language": "python",
   "name": "python3"
  },
  "language_info": {
   "codemirror_mode": {
    "name": "ipython",
    "version": 3
   },
   "file_extension": ".py",
   "mimetype": "text/x-python",
   "name": "python",
   "nbconvert_exporter": "python",
   "pygments_lexer": "ipython3",
   "version": "3.8.18"
  }
 },
 "nbformat": 4,
 "nbformat_minor": 5
}
