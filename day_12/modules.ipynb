{
 "cells": [
  {
   "cell_type": "markdown",
   "id": "00f790c1-68a2-42b7-8338-3d992a2f2ffd",
   "metadata": {},
   "source": [
    "# Day_12 (Modules)"
   ]
  },
  {
   "cell_type": "markdown",
   "id": "b4dfaae8-ca5e-4f68-a192-32804dd46698",
   "metadata": {},
   "source": [
    "### Exercise: Level 1"
   ]
  },
  {
   "cell_type": "code",
   "execution_count": 16,
   "id": "eadde006-30a1-45f3-8b80-d08b97cf91b0",
   "metadata": {},
   "outputs": [
    {
     "data": {
      "text/plain": [
       "'ZBVpST'"
      ]
     },
     "execution_count": 16,
     "metadata": {},
     "output_type": "execute_result"
    }
   ],
   "source": [
    "#  a function that generate six digit character\n",
    "\n",
    "import random\n",
    "import string\n",
    "\n",
    "def random_user_id():\n",
    "    ran = ''.join([random.choice(string.ascii_letters + string.digits) for _ in range(6)])\n",
    "    return (ran)\n",
    "    \n",
    "random_user_id()"
   ]
  },
  {
   "cell_type": "code",
   "execution_count": 59,
   "id": "b9a0f4e1-fae5-4121-b599-0c2b08e3de8a",
   "metadata": {},
   "outputs": [
    {
     "name": "stdin",
     "output_type": "stream",
     "text": [
      "number of characters:  5\n",
      "number of IDs:  5\n"
     ]
    },
    {
     "name": "stdout",
     "output_type": "stream",
     "text": [
      "#T3RpS\n",
      "#OKi9r\n",
      "#u5mJi\n",
      "#wJUUi\n",
      "#SwGpd\n"
     ]
    }
   ],
   "source": [
    "# modification of the function above. it takes two input number of characters and ids to be generated\n",
    "\n",
    "import random\n",
    "import string\n",
    "\n",
    "def user_id_gen():\n",
    "    char = int(input('number of characters: '))\n",
    "    num_id = int(input('number of IDs: '))\n",
    "    generated_ids = []\n",
    "    \n",
    "    for i in range(1, num_id + 1):\n",
    "        ran = \"#\" + ''.join([random.choice(string.ascii_letters + string.digits) for _ in range(char)])\n",
    "        generated_ids.append(ran)\n",
    "    for k in generated_ids:\n",
    "        print(k)\n",
    "    \n",
    "    # return generated_ids\n",
    "\n",
    "user_id_gen()"
   ]
  },
  {
   "cell_type": "code",
   "execution_count": 53,
   "id": "a22243e6-e2d0-465d-8ad2-b20ea2ae7bdf",
   "metadata": {},
   "outputs": [
    {
     "data": {
      "text/plain": [
       "'# rgb(59, 182, 252)'"
      ]
     },
     "execution_count": 53,
     "metadata": {},
     "output_type": "execute_result"
    }
   ],
   "source": [
    "# a rgb_color_gen function\n",
    "\n",
    "from random import randint\n",
    "\n",
    "def rgb_color_gen():\n",
    "    lst =[]\n",
    "  \n",
    "    for i in range (1,4):\n",
    "        ran = randint(0,255)\n",
    "        lst.append(ran)\n",
    "    return f'# rgb{tuple(lst)}'\n",
    "\n",
    "rgb_color_gen()"
   ]
  },
  {
   "cell_type": "markdown",
   "id": "cc6a606d-0635-4639-9638-715658d93cd0",
   "metadata": {},
   "source": [
    "### Exercise: Level 2"
   ]
  },
  {
   "cell_type": "code",
   "execution_count": 123,
   "id": "a2314018-1856-46e7-87f5-146b025028fe",
   "metadata": {},
   "outputs": [
    {
     "data": {
      "text/plain": [
       "['#fCbe56', '#cED5FC', '#eE7484', '#A3fc5F']"
      ]
     },
     "execution_count": 123,
     "metadata": {},
     "output_type": "execute_result"
    }
   ],
   "source": [
    "# a function that returns any number of hexadecimal colors in an array\n",
    "\n",
    "import random\n",
    "import string\n",
    "\n",
    "def list_of_hexa(n):\n",
    "    lst = []\n",
    "    for i in range(1, n+1):\n",
    "        ran = '#' + ''.join([random.choice(string.hexdigits) for _ in range(6)])\n",
    "        lst.append(ran)\n",
    "    return (lst)\n",
    "    \n",
    "list_of_hexa(4)\n",
    "    "
   ]
  },
  {
   "cell_type": "code",
   "execution_count": 122,
   "id": "92d96948-c962-4da7-a06c-ad7ac897fe40",
   "metadata": {},
   "outputs": [
    {
     "data": {
      "text/plain": [
       "['rgb(250,78,162)', 'rgb(89,241,232)', 'rgb(163,11,128)', 'rgb(20,214,41)']"
      ]
     },
     "execution_count": 122,
     "metadata": {},
     "output_type": "execute_result"
    }
   ],
   "source": [
    "\n",
    "from random import randint\n",
    "\n",
    "def list_of_rgb(n):\n",
    "    lst = []\n",
    "    for i in range(1, n+1):\n",
    "        red = 'rgb('+ str(randint(0,255)) +','+ str(randint(0,255)) +','+ str(randint(0,255))+')'\n",
    "        lst.append(red)\n",
    "    return (lst)\n",
    "    \n",
    "list_of_rgb(4)\n",
    "    "
   ]
  },
  {
   "cell_type": "code",
   "execution_count": 135,
   "id": "53acca09-26aa-4d92-81fe-11968f9ba08c",
   "metadata": {},
   "outputs": [
    {
     "data": {
      "text/plain": [
       "['#61a467', '#caFafd', '#73e85D', '#24fBD1', '#3a6F87', '#ba9bE6']"
      ]
     },
     "execution_count": 135,
     "metadata": {},
     "output_type": "execute_result"
    }
   ],
   "source": [
    "\n",
    "# a function that generate_colors which can generate any number of hexa or rgb colors\n",
    "\n",
    "from random import randint\n",
    "import random\n",
    "import string\n",
    "\n",
    "def generate_colors(gen, n):\n",
    "    lst = []\n",
    "\n",
    "    if gen == 'hexa':\n",
    "        for i in range(1, n+1):\n",
    "            ran = '#' + ''.join([random.choice(string.hexdigits) for _ in range(6)])\n",
    "            lst.append(ran)\n",
    "        return (lst)\n",
    "    elif gen == 'rgb':\n",
    "        for i in range(1, n+1):\n",
    "            red = 'rgb('+ str(randint(0,255)) +','+ str(randint(0,255)) +','+ str(randint(0,255))+')'\n",
    "            lst.append(red)\n",
    "        return (lst)\n",
    "    \n",
    "generate_colors('hexa', 6)"
   ]
  },
  {
   "cell_type": "code",
   "execution_count": null,
   "id": "daedff51-413d-4af8-baab-d0ed75ef4cda",
   "metadata": {},
   "outputs": [],
   "source": []
  },
  {
   "cell_type": "markdown",
   "id": "ede4c245-701f-4f3f-8055-36137cc6a065",
   "metadata": {},
   "source": [
    "### Exercise: Level 3"
   ]
  },
  {
   "cell_type": "code",
   "execution_count": 145,
   "id": "c69c80a2-c5a1-4d57-916d-c65172a45010",
   "metadata": {},
   "outputs": [
    {
     "data": {
      "text/plain": [
       "[3, 5, 1, 2, 4]"
      ]
     },
     "execution_count": 145,
     "metadata": {},
     "output_type": "execute_result"
    }
   ],
   "source": [
    "# a function that shuffles items in a list\n",
    "import random\n",
    "\n",
    "def shuffle_list(*item):\n",
    "    lst = []\n",
    "\n",
    "    for i in item:\n",
    "        lst.append(i)\n",
    "        ran = random.shuffle(lst)\n",
    "    return (lst)\n",
    "    \n",
    "shuffle_list(1,2,3,4,5)"
   ]
  },
  {
   "cell_type": "code",
   "execution_count": 168,
   "id": "fbc4997a-98a8-4196-a247-b9a821162857",
   "metadata": {},
   "outputs": [
    {
     "data": {
      "text/plain": [
       "[1, 7, 8, 6, 2, 4]"
      ]
     },
     "execution_count": 168,
     "metadata": {},
     "output_type": "execute_result"
    }
   ],
   "source": [
    "# seven unique random number function\n",
    "\n",
    "from random import randint\n",
    "\n",
    "def random_number():\n",
    "    lst = []\n",
    "    unique_list = []\n",
    "    \n",
    "    for i in range(1,8):\n",
    "        k = randint(0,9)\n",
    "        lst.append(k)\n",
    "        for x in lst:\n",
    "            if x not in unique_list:\n",
    "                unique_list.append(x)\n",
    "    return (unique_list)\n",
    "random_number()"
   ]
  },
  {
   "cell_type": "code",
   "execution_count": null,
   "id": "f36a86f1-fb67-4cf0-b383-b84692b6e525",
   "metadata": {},
   "outputs": [],
   "source": []
  },
  {
   "cell_type": "code",
   "execution_count": null,
   "id": "bd8bdb7f-f9c3-4210-ae38-220a0f3d95fb",
   "metadata": {},
   "outputs": [],
   "source": []
  }
 ],
 "metadata": {
  "kernelspec": {
   "display_name": "Python 3 (ipykernel)",
   "language": "python",
   "name": "python3"
  },
  "language_info": {
   "codemirror_mode": {
    "name": "ipython",
    "version": 3
   },
   "file_extension": ".py",
   "mimetype": "text/x-python",
   "name": "python",
   "nbconvert_exporter": "python",
   "pygments_lexer": "ipython3",
   "version": "3.8.18"
  }
 },
 "nbformat": 4,
 "nbformat_minor": 5
}
