{
 "cells": [
  {
   "cell_type": "markdown",
   "id": "81e9f995-266a-4988-98d1-04ae2bc6311c",
   "metadata": {},
   "source": [
    "## DAY_04 EXERCISE"
   ]
  },
  {
   "cell_type": "code",
   "execution_count": null,
   "id": "2f8393ca-7cba-4d8e-a6db-7ab0dbe55b7e",
   "metadata": {},
   "outputs": [],
   "source": [
    "# Concatenation\n",
    "\n",
    "print( 'Thirty' +\" \" + 'Days' + \" \" + 'Of' +\" \" + 'Python')\n",
    "print('Coding'+' '+ 'For' + ' ' + 'All')"
   ]
  },
  {
   "cell_type": "code",
   "execution_count": 26,
   "id": "cecb7d49-3778-480a-b21f-7bc1af2ceb25",
   "metadata": {},
   "outputs": [
    {
     "name": "stdout",
     "output_type": "stream",
     "text": [
      "Coding For All\n",
      "14\n",
      "CODING FOR ALL\n",
      "coding for all\n",
      "Coding for all\n",
      "cODING fOR aLL\n",
      "Coding For All\n",
      "Coding\n",
      "True\n",
      "Python For All\n",
      "['Coding For All']\n",
      "['Facebook', ' Google', ' Microsoft', ' Apple', ' IBM', ' Oracle', ' Amazon']\n",
      "C\n",
      "l\n",
      " \n",
      "pto o vroe\n",
      "Ci rl\n"
     ]
    }
   ],
   "source": [
    "# \n",
    "\n",
    "company = 'Coding For All'\n",
    "\n",
    "print(company)\n",
    "print(len(company))\n",
    "print(company.upper())\n",
    "print(company.lower())\n",
    "print(company.capitalize())\n",
    "print(company.swapcase())\n",
    "print(company.title())\n",
    "\n",
    "print(company[:6])\n",
    "print('Coding' in company)\n",
    "print(company.replace('Coding' , 'Python'))\n",
    "print(company.split(','))\n",
    "\n",
    "fortune =\"Facebook, Google, Microsoft, Apple, IBM, Oracle, Amazon\"\n",
    "print(fortune.split(\",\"))\n",
    "\n",
    "# indexing\n",
    "print(company[0])\n",
    "print(company[-1])\n",
    "print(company[10])\n",
    "\n",
    "# creating acronyms\n",
    "\n",
    "py='python for everyone'\n",
    "print(py[::2])\n",
    "\n",
    "cod='Coding For All'\n",
    "print(cod[::3])"
   ]
  },
  {
   "cell_type": "code",
   "execution_count": 9,
   "id": "af084125-8528-4398-b7a0-710f4bf442c3",
   "metadata": {},
   "outputs": [
    {
     "name": "stdout",
     "output_type": "stream",
     "text": [
      "0\n",
      "7\n",
      "13\n",
      "31\n",
      "47\n",
      "because because because \n",
      "31\n",
      "True\n",
      "False\n",
      "Coding For All\n",
      "False\n",
      "True\n"
     ]
    }
   ],
   "source": [
    "# using index,rfind,startswith,endswith, strip, and isdentifier\n",
    "\n",
    "coding = 'Coding For All'\n",
    "\n",
    "print(coding.index('C'))\n",
    "print(coding.index('F'))\n",
    "print(coding.rfind('l'))\n",
    "\n",
    "conjuction= 'You cannot end a sentence with because because because is a conjunction'\n",
    "print(conjuction.index('because'))\n",
    "print(conjuction.rindex('because'))\n",
    "print(conjuction[31:55])\n",
    "print(conjuction.index('because'))\n",
    "\n",
    "# checking whether the a string starts or ends with a substring \n",
    "print(coding.startswith('Coding'))\n",
    "print(coding.endswith('coding'))\n",
    "\n",
    "# removing trailing spaces\n",
    "trail = '   Coding For All      ' \n",
    "print(trail.strip())\n",
    "\n",
    "# checking which variable returns true using isidentifier\n",
    "py = '30DaysOfPython'\n",
    "th = 'thirty_days_of_python'\n",
    "\n",
    "print(py.isidentifier())\n",
    "print(th.isidentifier())  # returns true"
   ]
  },
  {
   "cell_type": "code",
   "execution_count": 10,
   "id": "dc8fbaf1-312e-4ab1-90c9-7a966e720782",
   "metadata": {},
   "outputs": [
    {
     "name": "stdout",
     "output_type": "stream",
     "text": [
      "Django#, Flask#, Bottle#, Pyramid#, Falcon\n"
     ]
    }
   ],
   "source": [
    "# joining a list with hash\n",
    "\n",
    "list = ['Django', 'Flask', 'Bottle', 'Pyramid', 'Falcon']\n",
    "result = '#, '.join(list)\n",
    "print(result) "
   ]
  },
  {
   "cell_type": "code",
   "execution_count": 13,
   "id": "8f6c3a48-2dd2-4bd6-b49f-937205ebbf0a",
   "metadata": {},
   "outputs": [
    {
     "name": "stdout",
     "output_type": "stream",
     "text": [
      "I am enjoying this challenge.\n",
      "I just wonder what is next.\n"
     ]
    }
   ],
   "source": [
    "# using the escape sequence for separating lines\n",
    "\n",
    "sentences = 'I am enjoying this challenge.\\nI just wonder what is next.'\n",
    "print(sentences)"
   ]
  },
  {
   "cell_type": "code",
   "execution_count": 18,
   "id": "33dc7355-8263-4645-a843-06e999df6b22",
   "metadata": {},
   "outputs": [
    {
     "name": "stdout",
     "output_type": "stream",
     "text": [
      "Name\t Age\tCountry\t City\n",
      "Adewoye\t 350\tsaudi\t Riyadh\n"
     ]
    }
   ],
   "source": [
    "# using tab escape sequence to write\n",
    "\n",
    "details = 'Name\\t Age\\tCountry\\t City\\nAdewoye\\t 350\\tsaudi\\t Riyadh'\n",
    "print(details)"
   ]
  },
  {
   "cell_type": "code",
   "execution_count": 24,
   "id": "2a8890f4-52c1-4d23-8a83-f78641b2d0a9",
   "metadata": {},
   "outputs": [
    {
     "name": "stdout",
     "output_type": "stream",
     "text": [
      "The area of a circle with radius 10 is 314 meters square.\n",
      "8 + 6 = 14\n",
      "8 - 6 = 2\n",
      "8 * 6 = 48\n",
      "8 / 6 = 1.33\n",
      "8 % 6 = 2\n",
      "8 // 6 = 1\n",
      "8 ** 6 = 262144\n"
     ]
    }
   ],
   "source": [
    "# using the formatting string \n",
    "\n",
    "\n",
    "radius = 10\n",
    "area = 3.14 * radius ** 2\n",
    "\n",
    "print(f'The area of a circle with radius 10 is {area:.0f} meters square.')\n",
    "\n",
    "\n",
    "add = 8 + 6\n",
    "print(f'8 + 6 = {add}')\n",
    "\n",
    "sub = 8 - 6 \n",
    "print(f'8 - 6 = {sub}')\n",
    "\n",
    "mut = 8 * 6 \n",
    "print(f'8 * 6 = {mut}')\n",
    "\n",
    "div = 8 / 6\n",
    "print(f'8 / 6 = {div:.2f}')\n",
    "\n",
    "rem = 8 % 6 \n",
    "print(f'8 % 6 = {rem}')\n",
    "\n",
    "floor = 8 // 6\n",
    "print(f'8 // 6 = {floor}')\n",
    "\n",
    "power = 8 ** 6\n",
    "print(f'8 ** 6 = {power}')\n",
    "\n"
   ]
  },
  {
   "cell_type": "code",
   "execution_count": null,
   "id": "0b046e0d-6f17-4dc1-8149-4684bd93372e",
   "metadata": {},
   "outputs": [],
   "source": []
  }
 ],
 "metadata": {
  "kernelspec": {
   "display_name": "Python 3 (ipykernel)",
   "language": "python",
   "name": "python3"
  },
  "language_info": {
   "codemirror_mode": {
    "name": "ipython",
    "version": 3
   },
   "file_extension": ".py",
   "mimetype": "text/x-python",
   "name": "python",
   "nbconvert_exporter": "python",
   "pygments_lexer": "ipython3",
   "version": "3.8.18"
  }
 },
 "nbformat": 4,
 "nbformat_minor": 5
}
