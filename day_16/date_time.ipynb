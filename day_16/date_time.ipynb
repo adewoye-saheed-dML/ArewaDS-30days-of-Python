{
 "cells": [
  {
   "cell_type": "markdown",
   "id": "f2cb32e3-3c19-4b6b-b339-063345c143c3",
   "metadata": {},
   "source": [
    "# Day 16 (date_time)"
   ]
  },
  {
   "cell_type": "markdown",
   "id": "9f07c0a3-47a5-42a2-9da3-0fa3acf5e8c8",
   "metadata": {},
   "source": [
    "### Exercises"
   ]
  },
  {
   "cell_type": "code",
   "execution_count": 6,
   "id": "d811a115-5a4b-42ae-a09b-62a24de5648a",
   "metadata": {},
   "outputs": [],
   "source": [
    "from datetime import datetime, date, time"
   ]
  },
  {
   "cell_type": "code",
   "execution_count": 10,
   "id": "b3b44c3d-a38e-4ef2-a658-c080826f4ef8",
   "metadata": {},
   "outputs": [
    {
     "name": "stdout",
     "output_type": "stream",
     "text": [
      "2023-12-20 21:21:30.790969\n",
      "20 12 2023 21 21\n",
      "timestamp 1703103690.790969\n",
      "20/12/2023, 21:21\n"
     ]
    }
   ],
   "source": [
    "# Getting the current day, month, year, hour, minute and timestamp from datetime module\n",
    "\n",
    "now = datetime.now()\n",
    "print(now)                      \n",
    "day = now.day                   \n",
    "month = now.month               \n",
    "year = now.year                 \n",
    "hour = now.hour                 \n",
    "minute = now.minute             \n",
    "second = now.second\n",
    "timestamp = now.timestamp()\n",
    "print(day, month, year, hour, minute)\n",
    "print('timestamp', timestamp)\n",
    "print(f'{day}/{month}/{year}, {hour}:{minute}')  # 8/7/2021, 7:38"
   ]
  },
  {
   "cell_type": "code",
   "execution_count": 13,
   "id": "47171a8f-9eb6-4615-b410-ab5c152a7852",
   "metadata": {},
   "outputs": [
    {
     "name": "stdout",
     "output_type": "stream",
     "text": [
      "time: 12/20/2023, 21:23:27\n"
     ]
    }
   ],
   "source": [
    "# current date and time\n",
    "\n",
    "now = datetime.now()\n",
    "\n",
    "\n",
    "time = now.strftime(\"%m/%d/%Y, %H:%M:%S\")\n",
    "\n",
    "print(\"time:\", time)\n"
   ]
  },
  {
   "cell_type": "code",
   "execution_count": 18,
   "id": "719b2294-9551-427e-976a-3e703fae07ae",
   "metadata": {},
   "outputs": [
    {
     "name": "stdout",
     "output_type": "stream",
     "text": [
      "date_string = 5 December, 2019\n",
      "date_object = 2019-12-05 00:00:00\n"
     ]
    }
   ],
   "source": [
    "# Changing this time string to time\n",
    "\n",
    "date_string = \"5 December, 2019\"\n",
    "print(\"date_string =\", date_string)\n",
    "date_object = datetime.strptime(date_string, \"%d %B, %Y\")\n",
    "print(\"date_object =\", date_object)"
   ]
  },
  {
   "cell_type": "code",
   "execution_count": 14,
   "id": "d3c14fe9-8b84-40ac-bed2-435eee234869",
   "metadata": {},
   "outputs": [
    {
     "name": "stdout",
     "output_type": "stream",
     "text": [
      "Time left for new year: 11 days, 23:01:00\n"
     ]
    }
   ],
   "source": [
    "# Difference between now and new year \n",
    "\n",
    "today = date(year=2023, month=12, day=20)\n",
    "new_year = date(year=2024, month=1, day=1)\n",
    "\n",
    "t1 = datetime(year = 2023, month = 12, day = 20, hour = 0, minute = 59, second = 0)\n",
    "t2 = datetime(year = 2024, month = 1, day = 1, hour = 0, minute = 0, second = 0)\n",
    "diff = t2 - t1\n",
    "print('Time left for new year:', diff) "
   ]
  },
  {
   "cell_type": "code",
   "execution_count": 17,
   "id": "1d54f8e8-4280-4bb3-86a9-e1bc4856e175",
   "metadata": {},
   "outputs": [
    {
     "name": "stdout",
     "output_type": "stream",
     "text": [
      "Time : 19711 days, 0:59:00\n"
     ]
    }
   ],
   "source": [
    "#  time difference between 1 January 1970 and now.\n",
    "\n",
    "previous_year = date(year=1970, month=1, day=1)\n",
    "today = date(year=2023, month=12, day=20)\n",
    "\n",
    "t1 = datetime(year = 1970, month = 1, day = 1, hour = 0, minute = 0, second = 0)\n",
    "t2 = datetime(year = 2023, month = 12, day = 20, hour = 0, minute = 59, second = 0)\n",
    "diff = t2 - t1\n",
    "print('Time :', diff) "
   ]
  },
  {
   "cell_type": "markdown",
   "id": "e5ba6fd9-3e4f-428e-a6fc-110575735dd3",
   "metadata": {},
   "source": [
    "### USES OF DATETIME MODULE\n",
    "* Time series analysis\n",
    "* \n",
    "To get a timestamp of any activities in an applicatio\n",
    "* \r\n",
    "Adding posts on a blog"
   ]
  },
  {
   "cell_type": "code",
   "execution_count": null,
   "id": "d61faea8-9ba8-4cd4-9c98-98ba7570ffc6",
   "metadata": {},
   "outputs": [],
   "source": []
  }
 ],
 "metadata": {
  "kernelspec": {
   "display_name": "Python 3 (ipykernel)",
   "language": "python",
   "name": "python3"
  },
  "language_info": {
   "codemirror_mode": {
    "name": "ipython",
    "version": 3
   },
   "file_extension": ".py",
   "mimetype": "text/x-python",
   "name": "python",
   "nbconvert_exporter": "python",
   "pygments_lexer": "ipython3",
   "version": "3.8.18"
  }
 },
 "nbformat": 4,
 "nbformat_minor": 5
}
