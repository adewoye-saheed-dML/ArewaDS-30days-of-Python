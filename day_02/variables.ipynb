{
 "cells": [
  {
   "cell_type": "code",
   "execution_count": null,
   "id": "b656b81e",
   "metadata": {},
   "outputs": [],
   "source": [
    "\n",
    "\n",
    "# Day 2: 30 Days of python programming\n",
    "\n",
    "first_name = 'Adewoye'\n",
    "last_name = 'saheed'\n",
    "full_name='Adewoye saheed'\n",
    "country = 'Nigeria'\n",
    "city = 'Ilorin'\n",
    "age = 100\n",
    "year=2023\n",
    "is_married = False\n",
    "is_true=True\n",
    "is_light_on = False\n",
    "\n",
    "# Declaring multiple variables in one line\n",
    "\n",
    "first_name, age, is_married = 'Adewoye', 100 , False\n",
    "\n",
    "# checking the data type of the variables\n",
    "\n",
    "print(type(first_name))\n",
    "print(type(last_name))\n",
    "print(type(full_name))\n",
    "print(type(country))\n",
    "print(type(city))\n",
    "print(type(age))\n",
    "print(type(year))\n",
    "print(type(is_married)) \n",
    "print(type(is_true))\n",
    "print(type(is_light_on))\n",
    "\n",
    "# length of first name\n",
    "\n",
    "print(len(first_name))\n",
    "\n",
    "# comparison between the length of first name and last name\n",
    "\n",
    "print(len(first_name) > len(last_name))\n",
    "\n",
    "\n",
    "\n",
    "num_one=5\n",
    "num_two=4\n",
    "total=num_one + num_two\n",
    "diff=num_one - num_two\n",
    "product=num_one * num_two\n",
    "division=num_one / num_two\n",
    "remainder=num_two % num_one\n",
    "exp=num_one **num_two\n",
    "floor_division=num_one // num_two\n",
    "\n",
    "# radius and circumference of a curcle\n",
    "\n",
    "radius=30\n",
    "area_of_circle= 3.142 * radius**2\n",
    "print(area_of_circle)\n",
    "\n",
    "circum_of_circle = 2 * 3.142 * radius\n",
    "print(circum_of_circle)\n",
    "\n",
    "\n",
    " "
   ]
  },
  {
   "cell_type": "code",
   "execution_count": null,
   "id": "b7d18bf7",
   "metadata": {},
   "outputs": [],
   "source": [
    "# radius of a circle as per user input\n",
    "\n",
    "radius_in=int(input('enter radius: '))\n",
    "area_of_circle= 3.142 * radius_in**2\n",
    "print(area_of_circle)"
   ]
  },
  {
   "cell_type": "code",
   "execution_count": null,
   "id": "ee54dad9",
   "metadata": {},
   "outputs": [],
   "source": [
    "# using input function\n",
    "\n",
    "first_name=input('enter first name: ')\n",
    "last_name=input('enter last name: ')\n",
    "country=input('enter country: ')\n",
    "age=input('enter age: ')\n",
    "\n",
    "print('first name:', first_name)\n",
    "print('last name:', last_name)\n",
    "print('country:', country)\n",
    "print('age:', age)"
   ]
  },
  {
   "cell_type": "code",
   "execution_count": null,
   "id": "b9c4f9d7",
   "metadata": {},
   "outputs": [],
   "source": [
    "# reserved words in python\n",
    "\n",
    "help('keywords')"
   ]
  },
  {
   "cell_type": "code",
   "execution_count": null,
   "id": "5000be20",
   "metadata": {},
   "outputs": [],
   "source": []
  }
 ],
 "metadata": {
  "kernelspec": {
   "display_name": "Python 3 (ipykernel)",
   "language": "python",
   "name": "python3"
  },
  "language_info": {
   "codemirror_mode": {
    "name": "ipython",
    "version": 3
   },
   "file_extension": ".py",
   "mimetype": "text/x-python",
   "name": "python",
   "nbconvert_exporter": "python",
   "pygments_lexer": "ipython3",
   "version": "3.8.18"
  }
 },
 "nbformat": 4,
 "nbformat_minor": 5
}
