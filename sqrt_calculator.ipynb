{
 "cells": [
  {
   "cell_type": "code",
   "execution_count": 7,
   "id": "d3fa6db0",
   "metadata": {},
   "outputs": [
    {
     "name": "stdout",
     "output_type": "stream",
     "text": [
      "Enter number: 5\n",
      "the square root of 5.0 is 2.24\n"
     ]
    }
   ],
   "source": [
    "number= float(input('Enter number: '))\n",
    "sqrt = number**0.5\n",
    "\n",
    "print(f\"the square root of {number:.1f} is %.2f\" %sqrt)"
   ]
  },
  {
   "cell_type": "code",
   "execution_count": null,
   "id": "2b925189",
   "metadata": {},
   "outputs": [],
   "source": []
  }
 ],
 "metadata": {
  "kernelspec": {
   "display_name": "Python 3",
   "language": "python",
   "name": "python3"
  },
  "language_info": {
   "codemirror_mode": {
    "name": "ipython",
    "version": 3
   },
   "file_extension": ".py",
   "mimetype": "text/x-python",
   "name": "python",
   "nbconvert_exporter": "python",
   "pygments_lexer": "ipython3",
   "version": "3.8.8"
  }
 },
 "nbformat": 4,
 "nbformat_minor": 5
}
