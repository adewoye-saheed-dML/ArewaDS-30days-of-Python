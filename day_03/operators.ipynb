{
 "cells": [
  {
   "cell_type": "markdown",
   "id": "9b0fdbef-8e8d-47b2-9821-5549d65d7d7d",
   "metadata": {},
   "source": [
    "## DAY_03 EXERCISE"
   ]
  },
  {
   "cell_type": "code",
   "execution_count": 2,
   "id": "f7308c47",
   "metadata": {},
   "outputs": [
    {
     "name": "stdout",
     "output_type": "stream",
     "text": [
      "27\n",
      "<class 'int'>\n"
     ]
    }
   ],
   "source": [
    "\n",
    "\n",
    "# Declare your age as integer variable\n",
    "\n",
    "age = int(27)\n",
    "print(age)\n",
    "print(type(age))\n",
    "\n",
    "\n",
    "# Declare your height as a float variable\n",
    "\n",
    "height = float(5.45)\n",
    "print(height)\n",
    "print(type(height))\n",
    "\n",
    "\n",
    "# Declare a variable that store a complex number\n",
    "\n",
    "real = 9\n",
    "imaginary = 3\n",
    "complex_no = complex(real, imaginary)\n",
    "print(\"The complex number is: \", complex_no)\n",
    "\n",
    "\n",
    "\n",
    "# Area of a Triangle \n",
    "\n",
    "base = float(input('Enter base: '))\n",
    "height = float(input('Enter height: '))\n",
    "\n",
    "area = 0.5 * base * height\n",
    "\n",
    "print('The area of the triangle is:',area)\n",
    "\n",
    "# Perimeter of a triangle\n",
    "\n",
    "a = float(input('Enter side a: '))\n",
    "b = float(input('Enter side b: '))\n",
    "c = float(input('Enter side c: '))\n",
    "\n",
    "perimeter = a + b + c\n",
    "\n",
    "print('The perimeter of the triangle is:',perimeter)\n",
    "\n",
    "\n",
    "\n",
    "# Area and perimeter of a rectangle\n",
    "\n",
    "length = float(input('Enter length: '))\n",
    "width = float(input('Enter width: '))\n",
    "\n",
    "area_rectangle = length * width\n",
    "perimeter_rectangle = 2 *(length + width)\n",
    "\n",
    "print('The area of the rectangle is:',area_rectangle)\n",
    "print('The perimeter of the rectangle is:',perimeter_rectangle)\n",
    "\n",
    "\n",
    "\n",
    "# Area and circumference of a circle\n",
    "\n",
    "radius = float(input('Enter radius: '))\n",
    "pi = 3.14\n",
    "\n",
    "area_circle = pi * radius**2\n",
    "circum = 2 * pi * radius\n",
    "\n",
    "print('The area of the circle is:',area_circle)\n",
    "print('The circumference of the circle is:',circum)"
   ]
  },
  {
   "cell_type": "code",
   "execution_count": 28,
   "id": "040c8e5e-c273-40d5-88c6-06b6c642d601",
   "metadata": {},
   "outputs": [
    {
     "name": "stdout",
     "output_type": "stream",
     "text": [
      "slope 2\n",
      "x-intercept is occurs at 1.0\n",
      "y-intercept is occurs at -2\n"
     ]
    }
   ],
   "source": [
    "# slope, x-intercept and y-intercept of y = 2x -2 \n",
    "\n",
    "slope = 2\n",
    "print('slope',2)\n",
    "\n",
    "# x intercept\n",
    "y = 0\n",
    "x = (y+2)/2\n",
    "print('x-intercept is occurs at',x)\n",
    "     \n",
    "# y intercept\n",
    "x = 0\n",
    "y = 2*x-2\n",
    "print('y-intercept is occurs at',y)"
   ]
  },
  {
   "cell_type": "code",
   "execution_count": 23,
   "id": "f39b614a-c7a0-4876-b9fd-db342f2df3c8",
   "metadata": {},
   "outputs": [
    {
     "name": "stdin",
     "output_type": "stream",
     "text": [
      "enter x1:  2\n",
      "enter y1:  2\n",
      "enter x2:  6\n",
      "enter y2:  10\n"
     ]
    },
    {
     "name": "stdout",
     "output_type": "stream",
     "text": [
      "the slope of the point is 2.0\n",
      "the distance of the point is 4.0\n"
     ]
    }
   ],
   "source": [
    "# slope and euclidean distance between two points \n",
    "\n",
    "x1=float(input('enter x1: '))\n",
    "y1=float(input('enter y1: '))\n",
    "x2=float(input('enter x2: '))\n",
    "y2=float(input('enter y2: '))\n",
    "\n",
    "\n",
    "m = (y2-y1)/(x2-x1)\n",
    "d=((x1-y1)**2 + (x2-y2)**2)**0.5\n",
    "\n",
    "\n",
    "print('the slope of the point is %.1f' %m)\n",
    "print('the distance of the point is %.1f' %d)\n"
   ]
  },
  {
   "cell_type": "code",
   "execution_count": 29,
   "id": "9ae529c5-f220-4975-860f-cdfa634dfa62",
   "metadata": {},
   "outputs": [],
   "source": [
    "# comparing the slopes\n",
    "\n",
    "# the two slopes are equal = 2"
   ]
  },
  {
   "cell_type": "code",
   "execution_count": 22,
   "id": "1c824189-0f2a-4a55-921e-cafd2fe0eec6",
   "metadata": {},
   "outputs": [
    {
     "name": "stdin",
     "output_type": "stream",
     "text": [
      "enter the your value for x: -3\n"
     ]
    },
    {
     "name": "stdout",
     "output_type": "stream",
     "text": [
      "the value of y is 0 at x is -3.0\n"
     ]
    }
   ],
   "source": [
    "# calculatin y value for different values of x\n",
    "\n",
    "x= float(input('enter the your value for x:'))\n",
    "\n",
    "y = (x**2 + 6*x + 9)\n",
    "\n",
    "print(f'the value of y is {y:.0f} at x is {x:.1f}') "
   ]
  },
  {
   "cell_type": "code",
   "execution_count": 7,
   "id": "2f91f8a9",
   "metadata": {},
   "outputs": [
    {
     "name": "stdout",
     "output_type": "stream",
     "text": [
      "False\n",
      "True\n"
     ]
    }
   ],
   "source": [
    "# length of python and dragon \n",
    "\n",
    "length = len('python')\n",
    "length_2 = len('dragon')\n",
    "\n",
    "print (length > length_2)   #falsy statement\n",
    "\n",
    "# using and operator to find 'on' in python and dragon\n",
    "\n",
    "print('on' in ('python' and 'dragon')) "
   ]
  },
  {
   "cell_type": "code",
   "execution_count": 1,
   "id": "84bca426-f88c-4f0c-bf61-2f1ee97762e9",
   "metadata": {},
   "outputs": [
    {
     "name": "stdout",
     "output_type": "stream",
     "text": [
      "True\n"
     ]
    }
   ],
   "source": [
    "# using 'in' operator to check 'jargon' in the sentence\n",
    "\n",
    "course='i hope this course is nit full of jargon'\n",
    "print('jargon' in course)"
   ]
  },
  {
   "cell_type": "code",
   "execution_count": 11,
   "id": "7e7c5f76-a0a1-4b5f-8b19-5be885caa375",
   "metadata": {},
   "outputs": [
    {
     "name": "stdout",
     "output_type": "stream",
     "text": [
      "False\n"
     ]
    }
   ],
   "source": [
    "# using 'not in'\n",
    "\n",
    "print('on' not in ('python' and 'dragon'))"
   ]
  },
  {
   "cell_type": "code",
   "execution_count": 23,
   "id": "30b0fff1-3811-405a-a61e-60323457219f",
   "metadata": {},
   "outputs": [
    {
     "name": "stdout",
     "output_type": "stream",
     "text": [
      "<class 'int'>\n",
      "<class 'float'>\n",
      "<class 'str'>\n"
     ]
    }
   ],
   "source": [
    "#  length of the text python converted to float string\n",
    "\n",
    "length = len('python')\n",
    "floa_t = float(length)\n",
    "strin_g= str(floa_t)\n",
    "\n",
    "print(type(length))\n",
    "print(type(floa_t))\n",
    "print(type(strin_g))"
   ]
  },
  {
   "cell_type": "code",
   "execution_count": 19,
   "id": "321f3876-1e9b-4492-af98-1a5a1603e888",
   "metadata": {},
   "outputs": [
    {
     "name": "stdin",
     "output_type": "stream",
     "text": [
      "enter number:  7\n"
     ]
    },
    {
     "name": "stdout",
     "output_type": "stream",
     "text": [
      "7.0 is not an even number\n"
     ]
    }
   ],
   "source": [
    "# checking for even number\n",
    "\n",
    "number= float(input('enter number: '))\n",
    "\n",
    "if number %2 == 0:\n",
    "    print(f'{number} is an even number')\n",
    "else:\n",
    "    print (f'{number} is not an even number')\n"
   ]
  },
  {
   "cell_type": "code",
   "execution_count": 21,
   "id": "82b56b9e-75f4-42aa-9ba8-ecdb9777de73",
   "metadata": {},
   "outputs": [
    {
     "name": "stdout",
     "output_type": "stream",
     "text": [
      "False\n"
     ]
    }
   ],
   "source": [
    "# difference between floor division and int division\n",
    "\n",
    "print(7//3 == 7/3)"
   ]
  },
  {
   "cell_type": "code",
   "execution_count": 22,
   "id": "2bbfb545-facb-46ca-9420-70fe16f44aca",
   "metadata": {},
   "outputs": [
    {
     "name": "stdout",
     "output_type": "stream",
     "text": [
      "False\n"
     ]
    }
   ],
   "source": [
    "#  checking type '10' and 10\n",
    "\n",
    "print(type('10') == type(10))"
   ]
  },
  {
   "cell_type": "code",
   "execution_count": 27,
   "id": "ec9beb9f-508c-4f04-bea9-f5d0d524a63e",
   "metadata": {},
   "outputs": [
    {
     "name": "stdout",
     "output_type": "stream",
     "text": [
      "False\n"
     ]
    }
   ],
   "source": [
    "# checking int 9.8 and 10\n",
    "\n",
    "print(type(int(9.8)) == 10)"
   ]
  },
  {
   "cell_type": "code",
   "execution_count": 35,
   "id": "28b427fd-3baa-4954-b7b9-6e5211f44368",
   "metadata": {},
   "outputs": [
    {
     "name": "stdin",
     "output_type": "stream",
     "text": [
      "enter hours:  40\n",
      "enter rate per hour:  28\n"
     ]
    },
    {
     "name": "stdout",
     "output_type": "stream",
     "text": [
      "your weekly earning is 1120\n"
     ]
    }
   ],
   "source": [
    "# calculating pay per person\n",
    "\n",
    "hours = float(input('enter hours: '))\n",
    "rate = float(input('enter rate per hour: '))\n",
    "\n",
    "weekly_earning = hours * rate\n",
    "\n",
    "print('your weekly earning is %.0f' % weekly_earning)"
   ]
  },
  {
   "cell_type": "code",
   "execution_count": 38,
   "id": "066e7c09-310d-4e2c-acf2-ccb153e834e2",
   "metadata": {},
   "outputs": [
    {
     "name": "stdin",
     "output_type": "stream",
     "text": [
      "enter number of years you have lived:  100\n"
     ]
    },
    {
     "name": "stdout",
     "output_type": "stream",
     "text": [
      "you have lived for 3153600000 seconds.\n"
     ]
    }
   ],
   "source": [
    "# number of seconds a person can live\n",
    "\n",
    "year= float(input('enter number of years you have lived: '))\n",
    "\n",
    "year_lived = 31536000 * year\n",
    "\n",
    "print(f'you have lived for {year_lived:.0f} seconds.')"
   ]
  },
  {
   "cell_type": "code",
   "execution_count": 21,
   "id": "fb8a3fe8-0503-4f96-b832-27f1c89618ea",
   "metadata": {},
   "outputs": [
    {
     "name": "stdout",
     "output_type": "stream",
     "text": [
      "1\t1\t1\t1\t1\n",
      "2\t1\t2\t4\t8\n",
      "3\t1\t3\t9\t27\n",
      "4\t1\t4\t16\t64\n",
      "5\t1\t5\t25\t125\n"
     ]
    }
   ],
   "source": [
    "# python script that displays this table\n",
    "\n",
    "print('1\\t1\\t1\\t1\\t1\\n2\\t1\\t2\\t4\\t8\\n3\\t1\\t3\\t9\\t27\\n4\\t1\\t4\\t16\\t64\\n5\\t1\\t5\\t25\\t125')"
   ]
  },
  {
   "cell_type": "code",
   "execution_count": null,
   "id": "27b1a030-4e1b-45f9-8824-575c05b79ece",
   "metadata": {},
   "outputs": [],
   "source": []
  }
 ],
 "metadata": {
  "kernelspec": {
   "display_name": "Python 3 (ipykernel)",
   "language": "python",
   "name": "python3"
  },
  "language_info": {
   "codemirror_mode": {
    "name": "ipython",
    "version": 3
   },
   "file_extension": ".py",
   "mimetype": "text/x-python",
   "name": "python",
   "nbconvert_exporter": "python",
   "pygments_lexer": "ipython3",
   "version": "3.8.18"
  }
 },
 "nbformat": 4,
 "nbformat_minor": 5
}
